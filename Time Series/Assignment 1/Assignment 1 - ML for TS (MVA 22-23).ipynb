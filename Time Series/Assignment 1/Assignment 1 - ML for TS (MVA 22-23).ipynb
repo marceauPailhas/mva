{
 "cells": [
  {
   "cell_type": "markdown",
   "id": "afb72815-74ef-4b27-b413-26c1c4f20652",
   "metadata": {
    "tags": []
   },
   "source": [
    "# Setup"
   ]
  },
  {
   "cell_type": "markdown",
   "id": "77573173-e7b9-46b4-ae78-a0f9b0d87351",
   "metadata": {},
   "source": [
    "**Imports**"
   ]
  },
  {
   "cell_type": "code",
   "execution_count": null,
   "id": "263236fe-6d00-45aa-80f1-e36765758e9a",
   "metadata": {},
   "outputs": [],
   "source": [
    "import numpy as np\n",
    "import matplotlib.pyplot as plt\n",
    "from loadmydata.load_human_locomotion import (\n",
    "    load_human_locomotion_dataset,\n",
    "    get_code_list,\n",
    ")"
   ]
  },
  {
   "cell_type": "markdown",
   "id": "02ce9a17-6c03-4343-b2d4-c5dc94eac178",
   "metadata": {},
   "source": [
    "**Utility functions**"
   ]
  },
  {
   "cell_type": "code",
   "execution_count": null,
   "id": "53469a53-92a0-403d-9bb4-544cd0e7a1db",
   "metadata": {},
   "outputs": [],
   "source": [
    "def fig_ax(figsize=(15, 5)):\n",
    "    fig, ax = plt.subplots(figsize=figsize)\n",
    "    ax.autoscale(enable=True, axis='x', tight=True)\n",
    "    return fig, ax"
   ]
  },
  {
   "cell_type": "markdown",
   "id": "3c7389c8-24b0-475f-9fa8-93d117311f52",
   "metadata": {},
   "source": [
    "# Spectral feature"
   ]
  },
  {
   "cell_type": "markdown",
   "id": "2cbabb4f-0ba7-43a6-80e4-9dab3d914407",
   "metadata": {},
   "source": [
    "## Question 6"
   ]
  },
  {
   "cell_type": "code",
   "execution_count": null,
   "id": "88f15c76-4764-4ee0-abd4-26260ed1b272",
   "metadata": {},
   "outputs": [],
   "source": [
    "# This is an example of plot (random data). You can change it if you want.\n",
    "\n",
    "## Change the following lines\n",
    "periodograms = np.random.randn(100, 200)  # shape (n_trials, n_freqs)\n",
    "freqs = np.linspace(0, 0.5, 200)\n",
    "##\n",
    "\n",
    "\n",
    "fig, ax = fig_ax(figsize=(9, 5))\n",
    "\n",
    "avg = periodograms.mean(axis=0)\n",
    "std = periodograms.std(axis=0)\n",
    "ax.plot(freqs, avg, 'k-')\n",
    "ax.fill_between(freqs, avg-std, avg+std, alpha=0.5)\n"
   ]
  },
  {
   "cell_type": "markdown",
   "id": "8e93f8f9-a5f4-4918-b1cb-06dcf94e4282",
   "metadata": {},
   "source": [
    "## Question 9"
   ]
  },
  {
   "cell_type": "code",
   "execution_count": null,
   "id": "207edbf1-986a-49f2-bf06-2b8a46e58545",
   "metadata": {},
   "outputs": [],
   "source": []
  },
  {
   "cell_type": "markdown",
   "id": "caf9a94c-244a-470b-b9d6-ce9be480abfa",
   "metadata": {
    "tags": []
   },
   "source": [
    "# Dynamic time warping (DTW)"
   ]
  },
  {
   "cell_type": "markdown",
   "id": "a1dd4390-73c6-47f5-9ddd-2a01bf43d4ec",
   "metadata": {
    "tags": []
   },
   "source": [
    "## Data\n",
    "\n",
    "This data set consists of signals collected with inertial measurement units (accelerometer+gyroscope), from 230 subjects undergoing a fixed protocol:\n",
    "- standing still,\n",
    "- walking 10 m,\n",
    "- turning around,\n",
    "- walking back,\n",
    "- stopping.\n",
    "\n",
    "In this assignment, we only consider the vertical acceleration of the left foot and all signals are truncated to 20 seconds (as a result, they all have same length). Signals are sampled at 100 Hz.\n",
    "\n",
    "The measured population is composed of healthy subjects as well as patients with neurological or orthopedic disorders.\n",
    "\n",
    "The start and end time stamps of thousands of footsteps are available.\n",
    "\n",
    "The data are part of a larger data set described in [1].\n",
    "\n",
    "[1] Truong, C., Barrois-Müller, R., Moreau, T., Provost, C., Vienne-Jumeau, A., Moreau, A., Vidal, P.-P., Vayatis, N., Buffat, S., Yelnik, A., Ricard, D., & Oudre, L. (2019). A data set for the study of human locomotion with inertial measurements units. Image Processing On Line (IPOL), 9."
   ]
  },
  {
   "cell_type": "markdown",
   "id": "0870017f-15e9-45b6-ae13-905810b89f9f",
   "metadata": {},
   "source": [
    "**The task** is to classify footsteps in healthy/non-healthy."
   ]
  },
  {
   "cell_type": "markdown",
   "id": "b2feb6bf-cced-46a7-b6bf-9c04c2cfbeb0",
   "metadata": {
    "tags": []
   },
   "source": [
    "The following cell defines the training set `(X_train, y_train)` and testing set `(X_test, y_test)`."
   ]
  },
  {
   "cell_type": "code",
   "execution_count": null,
   "id": "0255e82c-dd54-4e9e-bea8-50284f2588d2",
   "metadata": {},
   "outputs": [],
   "source": [
    "subset_indexes_train = [95, 619, 441, 149, 951, 803, 214, 34, 37, 630]\n",
    "subset_indexes_test = [683, 259, 59, 387, 634]\n",
    "\n",
    "code_list = get_code_list()\n",
    "\n",
    "X_train = list()  # list of footstep signals\n",
    "y_train = list()  # list of pathologies (the \"labels\")\n",
    "\n",
    "for code in np.take(code_list, subset_indexes_train):\n",
    "    single_trial = load_human_locomotion_dataset(code)\n",
    "    signal = single_trial.signal.LAZ.to_numpy()  # keeping only one dimension (from the left sensor)\n",
    "    steps = single_trial.left_steps\n",
    "    pathology = single_trial.metadata[\"PathologyGroup\"]\n",
    "    label = 0 if pathology==\"Healthy\" else 1  # 0: healthy, 1: non-healthy\n",
    "    for (start, end) in steps:\n",
    "        X_train.append(signal[start:end])\n",
    "        y_train.append(label)\n",
    "\n",
    "        \n",
    "X_test = list()  # list of footstep signals\n",
    "y_test = list()  # list of pathologies (the \"labels\")\n",
    "\n",
    "for code in np.take(code_list, subset_indexes_test):\n",
    "    single_trial = load_human_locomotion_dataset(code)\n",
    "    signal = single_trial.signal.LAZ.to_numpy()  # keeping only one dimension (from the left sensor)\n",
    "    steps = single_trial.left_steps\n",
    "    pathology = single_trial.metadata[\"PathologyGroup\"]\n",
    "    label = 0 if pathology==\"Healthy\" else 1  # 0: healthy, 1: non-healthy\n",
    "    for (start, end) in steps:\n",
    "        X_test.append(signal[start:end])\n",
    "        y_test.append(label)"
   ]
  },
  {
   "cell_type": "markdown",
   "id": "d25264b9-5970-49db-8171-bdd32d9b4134",
   "metadata": {},
   "source": [
    "## Question 10"
   ]
  },
  {
   "cell_type": "code",
   "execution_count": null,
   "id": "89f90fd4-aaa7-43bc-94ee-912341dbcc91",
   "metadata": {},
   "outputs": [],
   "source": []
  },
  {
   "cell_type": "markdown",
   "id": "78fe3993-ace3-4bb7-8132-1f2cc96c0edf",
   "metadata": {},
   "source": [
    "## Question 11"
   ]
  },
  {
   "cell_type": "code",
   "execution_count": null,
   "id": "52310cc2-bd01-45a4-9fa1-0891be2d5691",
   "metadata": {},
   "outputs": [],
   "source": []
  }
 ],
 "metadata": {
  "kernelspec": {
   "display_name": "Python 3 (ipykernel)",
   "language": "python",
   "name": "python3"
  },
  "language_info": {
   "codemirror_mode": {
    "name": "ipython",
    "version": 3
   },
   "file_extension": ".py",
   "mimetype": "text/x-python",
   "name": "python",
   "nbconvert_exporter": "python",
   "pygments_lexer": "ipython3",
   "version": "3.9.12"
  },
  "toc-autonumbering": true
 },
 "nbformat": 4,
 "nbformat_minor": 5
}
