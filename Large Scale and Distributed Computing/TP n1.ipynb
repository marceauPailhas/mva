{
 "cells": [
  {
   "cell_type": "code",
   "execution_count": 40,
   "id": "786c6e0f",
   "metadata": {},
   "outputs": [],
   "source": [
    "import random\n",
    "import numpy as np\n",
    "import matplotlib.pyplot as plt\n",
    "from PIL import Image\n",
    "import pywt"
   ]
  },
  {
   "cell_type": "markdown",
   "id": "117c5e4b",
   "metadata": {},
   "source": [
    "We load the image "
   ]
  },
  {
   "cell_type": "code",
   "execution_count": 32,
   "id": "2f931458",
   "metadata": {},
   "outputs": [],
   "source": [
    "Im = imageio.imread(\"florence_TP_LargeScale.jpg\")"
   ]
  },
  {
   "cell_type": "markdown",
   "id": "8734a63a",
   "metadata": {},
   "source": [
    "We add gaussian noise to the image of std 30 and mean 0."
   ]
  },
  {
   "cell_type": "code",
   "execution_count": 19,
   "id": "f25914a7",
   "metadata": {},
   "outputs": [],
   "source": [
    "Noise = np.random.normal(loc=0.0, scale=30.0, size=Im.shape)\n",
    "Noise = Noise.astype('int')"
   ]
  },
  {
   "cell_type": "code",
   "execution_count": 36,
   "id": "2b989b40",
   "metadata": {},
   "outputs": [],
   "source": [
    "Noisy_Im = Im + Noise"
   ]
  },
  {
   "cell_type": "code",
   "execution_count": 37,
   "id": "37398928",
   "metadata": {},
   "outputs": [],
   "source": [
    "y = np.clip(Noisy_Im,0,255).astype(\"uint8\")"
   ]
  },
  {
   "cell_type": "markdown",
   "id": "29f97cec",
   "metadata": {},
   "source": [
    "We show the image"
   ]
  },
  {
   "cell_type": "code",
   "execution_count": 38,
   "id": "6d36676a",
   "metadata": {},
   "outputs": [],
   "source": [
    "pil_image = Image.fromarray(y)\n",
    "pil_image.show()"
   ]
  },
  {
   "cell_type": "markdown",
   "id": "6e380961",
   "metadata": {},
   "source": [
    "We compute L "
   ]
  },
  {
   "cell_type": "code",
   "execution_count": 46,
   "id": "e979d908",
   "metadata": {},
   "outputs": [
    {
     "ename": "TypeError",
     "evalue": "Wavelet name or filter bank must be specified.",
     "output_type": "error",
     "traceback": [
      "\u001b[1;31m---------------------------------------------------------------------------\u001b[0m",
      "\u001b[1;31mTypeError\u001b[0m                                 Traceback (most recent call last)",
      "Input \u001b[1;32mIn [46]\u001b[0m, in \u001b[0;36m<cell line: 1>\u001b[1;34m()\u001b[0m\n\u001b[1;32m----> 1\u001b[0m help(\u001b[43mpywt\u001b[49m\u001b[38;5;241;43m.\u001b[39;49m\u001b[43mwavedec2\u001b[49m\u001b[43m(\u001b[49m\u001b[43my\u001b[49m\u001b[43m,\u001b[49m\u001b[43m \u001b[49m\u001b[38;5;124;43m\"\u001b[39;49m\u001b[38;5;124;43m\"\u001b[39;49m\u001b[43m,\u001b[49m\u001b[43maxes\u001b[49m\u001b[38;5;241;43m=\u001b[39;49m\u001b[43m(\u001b[49m\u001b[38;5;241;43m0\u001b[39;49m\u001b[43m,\u001b[49m\u001b[38;5;241;43m1\u001b[39;49m\u001b[43m)\u001b[49m\u001b[43m)\u001b[49m)\n",
      "File \u001b[1;32m~\\anaconda3\\lib\\site-packages\\pywt\\_multilevel.py:238\u001b[0m, in \u001b[0;36mwavedec2\u001b[1;34m(data, wavelet, mode, level, axes)\u001b[0m\n\u001b[0;32m    235\u001b[0m \u001b[38;5;28;01mexcept\u001b[39;00m \u001b[38;5;167;01mIndexError\u001b[39;00m:\n\u001b[0;32m    236\u001b[0m     \u001b[38;5;28;01mraise\u001b[39;00m np\u001b[38;5;241m.\u001b[39mAxisError(\u001b[38;5;124m\"\u001b[39m\u001b[38;5;124mAxis greater than data dimensions\u001b[39m\u001b[38;5;124m\"\u001b[39m)\n\u001b[1;32m--> 238\u001b[0m wavelets \u001b[38;5;241m=\u001b[39m \u001b[43m_wavelets_per_axis\u001b[49m\u001b[43m(\u001b[49m\u001b[43mwavelet\u001b[49m\u001b[43m,\u001b[49m\u001b[43m \u001b[49m\u001b[43maxes\u001b[49m\u001b[43m)\u001b[49m\n\u001b[0;32m    239\u001b[0m dec_lengths \u001b[38;5;241m=\u001b[39m [w\u001b[38;5;241m.\u001b[39mdec_len \u001b[38;5;28;01mfor\u001b[39;00m w \u001b[38;5;129;01min\u001b[39;00m wavelets]\n\u001b[0;32m    241\u001b[0m level \u001b[38;5;241m=\u001b[39m _check_level(axes_sizes, dec_lengths, level)\n",
      "File \u001b[1;32m~\\anaconda3\\lib\\site-packages\\pywt\\_utils.py:53\u001b[0m, in \u001b[0;36m_wavelets_per_axis\u001b[1;34m(wavelet, axes)\u001b[0m\n\u001b[0;32m     50\u001b[0m axes \u001b[38;5;241m=\u001b[39m \u001b[38;5;28mtuple\u001b[39m(axes)\n\u001b[0;32m     51\u001b[0m \u001b[38;5;28;01mif\u001b[39;00m \u001b[38;5;28misinstance\u001b[39m(wavelet, string_types \u001b[38;5;241m+\u001b[39m (Wavelet, )):\n\u001b[0;32m     52\u001b[0m     \u001b[38;5;66;03m# same wavelet on all axes\u001b[39;00m\n\u001b[1;32m---> 53\u001b[0m     wavelets \u001b[38;5;241m=\u001b[39m [\u001b[43m_as_wavelet\u001b[49m\u001b[43m(\u001b[49m\u001b[43mwavelet\u001b[49m\u001b[43m)\u001b[49m, ] \u001b[38;5;241m*\u001b[39m \u001b[38;5;28mlen\u001b[39m(axes)\n\u001b[0;32m     54\u001b[0m \u001b[38;5;28;01melif\u001b[39;00m \u001b[38;5;28misinstance\u001b[39m(wavelet, Iterable):\n\u001b[0;32m     55\u001b[0m     \u001b[38;5;66;03m# (potentially) unique wavelet per axis (e.g. for dual-tree DWT)\u001b[39;00m\n\u001b[0;32m     56\u001b[0m     \u001b[38;5;28;01mif\u001b[39;00m \u001b[38;5;28mlen\u001b[39m(wavelet) \u001b[38;5;241m==\u001b[39m \u001b[38;5;241m1\u001b[39m:\n",
      "File \u001b[1;32m~\\anaconda3\\lib\\site-packages\\pywt\\_utils.py:23\u001b[0m, in \u001b[0;36m_as_wavelet\u001b[1;34m(wavelet)\u001b[0m\n\u001b[0;32m     21\u001b[0m \u001b[38;5;124;03m\"\"\"Convert wavelet name to a Wavelet object.\"\"\"\u001b[39;00m\n\u001b[0;32m     22\u001b[0m \u001b[38;5;28;01mif\u001b[39;00m \u001b[38;5;129;01mnot\u001b[39;00m \u001b[38;5;28misinstance\u001b[39m(wavelet, (ContinuousWavelet, Wavelet)):\n\u001b[1;32m---> 23\u001b[0m     wavelet \u001b[38;5;241m=\u001b[39m \u001b[43mDiscreteContinuousWavelet\u001b[49m\u001b[43m(\u001b[49m\u001b[43mwavelet\u001b[49m\u001b[43m)\u001b[49m\n\u001b[0;32m     24\u001b[0m \u001b[38;5;28;01mif\u001b[39;00m \u001b[38;5;28misinstance\u001b[39m(wavelet, ContinuousWavelet):\n\u001b[0;32m     25\u001b[0m     \u001b[38;5;28;01mraise\u001b[39;00m \u001b[38;5;167;01mValueError\u001b[39;00m(\n\u001b[0;32m     26\u001b[0m         \u001b[38;5;124m\"\u001b[39m\u001b[38;5;124mA ContinuousWavelet object was provided, but only discrete \u001b[39m\u001b[38;5;124m\"\u001b[39m\n\u001b[0;32m     27\u001b[0m         \u001b[38;5;124m\"\u001b[39m\u001b[38;5;124mWavelet objects are supported by this function.  A list of all \u001b[39m\u001b[38;5;124m\"\u001b[39m\n\u001b[0;32m     28\u001b[0m         \u001b[38;5;124m\"\u001b[39m\u001b[38;5;124msupported discrete wavelets can be obtained by running:\u001b[39m\u001b[38;5;130;01m\\n\u001b[39;00m\u001b[38;5;124m\"\u001b[39m\n\u001b[0;32m     29\u001b[0m         \u001b[38;5;124m\"\u001b[39m\u001b[38;5;124mprint(pywt.wavelist(kind=\u001b[39m\u001b[38;5;124m'\u001b[39m\u001b[38;5;124mdiscrete\u001b[39m\u001b[38;5;124m'\u001b[39m\u001b[38;5;124m))\u001b[39m\u001b[38;5;124m\"\u001b[39m)\n",
      "File \u001b[1;32mpywt\\_extensions\\_pywt.pyx:319\u001b[0m, in \u001b[0;36mpywt._extensions._pywt.DiscreteContinuousWavelet\u001b[1;34m()\u001b[0m\n",
      "\u001b[1;31mTypeError\u001b[0m: Wavelet name or filter bank must be specified."
     ]
    }
   ],
   "source": [
    "help(pywt.wavedec2(y, \"\",axes=(0,1)))"
   ]
  },
  {
   "cell_type": "code",
   "execution_count": null,
   "id": "c5a3267b",
   "metadata": {},
   "outputs": [],
   "source": []
  }
 ],
 "metadata": {
  "kernelspec": {
   "display_name": "Python 3 (ipykernel)",
   "language": "python",
   "name": "python3"
  },
  "language_info": {
   "codemirror_mode": {
    "name": "ipython",
    "version": 3
   },
   "file_extension": ".py",
   "mimetype": "text/x-python",
   "name": "python",
   "nbconvert_exporter": "python",
   "pygments_lexer": "ipython3",
   "version": "3.9.12"
  }
 },
 "nbformat": 4,
 "nbformat_minor": 5
}
