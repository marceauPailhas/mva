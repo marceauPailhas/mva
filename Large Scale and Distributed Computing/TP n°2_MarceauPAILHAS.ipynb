{
 "cells": [
  {
   "cell_type": "markdown",
   "id": "bbd353f4",
   "metadata": {},
   "source": [
    "# Part I "
   ]
  },
  {
   "cell_type": "code",
   "execution_count": 3,
   "id": "b9b762ba",
   "metadata": {},
   "outputs": [],
   "source": [
    "data = open ( \"data.txt\")\n",
    "x =[]\n",
    "for line in data: # files are iterable\n",
    "    x.append(float(line))\n"
   ]
  },
  {
   "cell_type": "code",
   "execution_count": 4,
   "id": "c5cd2275",
   "metadata": {},
   "outputs": [],
   "source": [
    "import numpy as np\n",
    "import matplotlib.pyplot as plt\n",
    "import random"
   ]
  },
  {
   "cell_type": "markdown",
   "id": "0fd504da",
   "metadata": {},
   "source": [
    "# 2 Generation of synthetic data"
   ]
  },
  {
   "cell_type": "markdown",
   "id": "937cf2ab",
   "metadata": {},
   "source": [
    "## Q2"
   ]
  },
  {
   "cell_type": "code",
   "execution_count": 5,
   "id": "9d1b64c5",
   "metadata": {},
   "outputs": [],
   "source": [
    "Tmin = 1\n",
    "Tmax = 1000\n",
    "N = len(x)\n",
    "\n",
    "T_samp = [ Tmin* np.exp(-(n-1)*np.log(Tmin/Tmax)/(N-1)) for n in range(1,N+1)]"
   ]
  },
  {
   "cell_type": "markdown",
   "id": "665503d6",
   "metadata": {},
   "source": [
    "## Q3 "
   ]
  },
  {
   "cell_type": "code",
   "execution_count": 6,
   "id": "440dff3c",
   "metadata": {},
   "outputs": [
    {
     "data": {
      "text/plain": [
       "Text(0, 0.5, 'x')"
      ]
     },
     "execution_count": 6,
     "metadata": {},
     "output_type": "execute_result"
    },
    {
     "data": {
      "image/png": "[encoded data removed]",
      "text/plain": [
       "<Figure size 432x288 with 1 Axes>"
      ]
     },
     "metadata": {
      "needs_background": "light"
     },
     "output_type": "display_data"
    }
   ],
   "source": [
    "plt.xscale(\"log\")\n",
    "plt.plot(T_samp,x)\n",
    "plt.title(\"NMR signals\")\n",
    "plt.xlabel(\"T\")\n",
    "plt.ylabel(\"x\")"
   ]
  },
  {
   "cell_type": "markdown",
   "id": "c95f5a9f",
   "metadata": {},
   "source": [
    "## Q4"
   ]
  },
  {
   "cell_type": "code",
   "execution_count": 7,
   "id": "4d7cfc76",
   "metadata": {},
   "outputs": [],
   "source": [
    "M = 50 \n",
    "tmin = 0\n",
    "tmax = 1.5\n",
    "\n",
    "t = [tmin +(m-1)*(tmax-tmin)/(M-1) for m in range(1, M+1)]"
   ]
  },
  {
   "cell_type": "markdown",
   "id": "cf8084d4",
   "metadata": {},
   "source": [
    "## Q5 "
   ]
  },
  {
   "cell_type": "code",
   "execution_count": 8,
   "id": "e5e54ec7",
   "metadata": {},
   "outputs": [],
   "source": [
    "K = np.zeros((M,N))\n",
    "\n",
    "for m in range(M):\n",
    "    for n in range(N):\n",
    "        K[m,n] = np.exp(- t[m]*T_samp[n])"
   ]
  },
  {
   "cell_type": "markdown",
   "id": "d2546286",
   "metadata": {},
   "source": [
    "## Q6 "
   ]
  },
  {
   "cell_type": "code",
   "execution_count": 9,
   "id": "f3a007c8",
   "metadata": {},
   "outputs": [],
   "source": [
    "z = K @ np.array(x) \n",
    "sigma = 0.01*z[0]\n",
    "w = np.random.normal(loc=0.0, scale= sigma, size=M)"
   ]
  },
  {
   "cell_type": "markdown",
   "id": "808d39f4",
   "metadata": {},
   "source": [
    "## Q7"
   ]
  },
  {
   "cell_type": "code",
   "execution_count": 10,
   "id": "208d8efd",
   "metadata": {},
   "outputs": [
    {
     "data": {
      "text/plain": [
       "Text(0, 0.5, 'y = Kx + w')"
      ]
     },
     "execution_count": 10,
     "metadata": {},
     "output_type": "execute_result"
    },
    {
     "data": {
      "image/png": "[encoded data removed]",
      "text/plain": [
       "<Figure size 432x288 with 1 Axes>"
      ]
     },
     "metadata": {
      "needs_background": "light"
     },
     "output_type": "display_data"
    }
   ],
   "source": [
    "y = z+w\n",
    "\n",
    "#plotting y in function of t \n",
    "\n",
    "plt.plot(t,y)\n",
    "plt.title(\"Noisy Data\")\n",
    "plt.xlabel(\"t\")\n",
    "plt.ylabel(\"y = Kx + w\")"
   ]
  },
  {
   "cell_type": "markdown",
   "id": "13391fe5",
   "metadata": {},
   "source": [
    "# 3 Comparison of regularization strategies"
   ]
  },
  {
   "cell_type": "markdown",
   "id": "2e060165",
   "metadata": {},
   "source": [
    "## Q1 "
   ]
  },
  {
   "cell_type": "markdown",
   "id": "71f57990",
   "metadata": {},
   "source": [
    "The function $h:x \\mapsto \\frac{1}{2}||Kx-y||^2 + \\beta g(x)$ is convex because $||.||$ and $g$ are convex and $K. -y$ is linear. \n",
    "\n",
    "We compute the gradient and then the hessian of the following function.\n",
    "$\\nabla (||K.-y||) (x)= K^T (Kx -y)$ and $\\nabla^2 (||K.-y||) (x)= K^TK $.\n",
    "\n",
    "We notice that $\\nabla^2 (||K.-y||) (x)\\geq 0$\n",
    "\n",
    "\n",
    "1)**Smothness prior** \n",
    "$g(x) = \\frac{1}{2}||D(x)||^2$\n",
    "Let's coompute the gradient and then the hessian.\n",
    "$\\nabla_x g(x)= \\nabla \\left[ \\sum_{n=1}^N (x^{(n)}-x^{(n-1)})^2 \\right] $\n",
    "\n",
    "\n",
    "We get $\\nabla_x g(x) = C x $ where $C(i,i)= 2$ and $C(i+1,i)=C(i-1,i)=-1$ for all i, with the circular convention.\n",
    "\n",
    "The hessian is $\\nabla^2 g(x) = C$. We notice that $C = D^T D $ with $D = I - E$ where E has -1 on the upper off diagonal and -1 on bottom left corner.\n",
    "\n",
    "We will show that $K^TK + \\beta D^T D $ is definite positive. By consruction it is positive. Let's proove that if $X^T(K^TK + D^T D )X =0$ then $X=0$.\n",
    "\n",
    "We suppose that  $X^T(K^TK + \\beta D^T D )X =0$\n",
    "\n",
    "This means $||KX||^2+  \\beta ||DX||^2 =0$, this is done if and only if $X \\in \\ker K \\cap \\ker D $\n",
    "\n",
    "$DX = 0 \\Leftrightarrow X = EX \\Leftrightarrow x_i = x_{i+1}$.\n",
    "\n",
    "This implies that $X = x_1 (1,\\dots,1)$. $KX = 0 $ implies $ \\sum_m(\\exp(−T(n)t(m)))\\times x_1=0$ \n",
    "The sum can't be 0 because it is only strictly positive numbers. Then we must have $x_1=0$.\n",
    "\n",
    "X=0.\n",
    "\n",
    "**$K^TK + D^T D $ is definite positive.**\n",
    "\n",
    "The solution is unique.\n",
    "\n",
    "\n",
    "\n",
    "2)$~~~~~ \\iota$ imposes that we have to find a solution in $[x_{min}, x_{max}]^N$.\n",
    "Beacuse outside of this region, this function to minimize is equal to $\\infty$, so it is the same as minimizing the function with as constraint that $x$ is in this region. \n",
    "\n",
    "In this region we have to minimise $|\\!|K.-y|\\!|^2 + |\\!|D.|\\!|^2$. We have shown in 1) that this function is strictly convex. \n",
    "\n",
    "It is stricly convex and the search interval is convex and bounded, there is a unique solution to this problem.\n",
    "\n",
    "\n",
    "3)**Sparsity prior**\n",
    "$g(x)=|\\!|x|\\!|_1$ is a norm, so it is convex. We can use the triangular inequality to show it.\n",
    "$g$ is coercive because there exists C such that $||x||_1\\geq C ||x||_2$ (equivalence of norms), by making the norm $||x||_2 \\rightarrow + \\infty$ \n",
    "As the function is coercive and continous, it has a minimalizer. But we can't say anything about unicity.\n",
    "\n",
    "\n"
   ]
  },
  {
   "cell_type": "markdown",
   "id": "b989d2bf",
   "metadata": {},
   "source": [
    "## Q2"
   ]
  },
  {
   "cell_type": "markdown",
   "id": "365c429a",
   "metadata": {},
   "source": [
    "1) No specific algorithm, the function to minimize is minimum for $\\nabla f = 0$. This means $(K^TK + \\beta D^T D )X -K^T y=0$, we find $X$ by computing $X  = (K^TK + \\beta D^T D )^{-1} K^T y $\n",
    "\n",
    "2) F ν-Lipschitzian gradient with ν the largest eigenvalue of K>K +βD>D since :\n",
    "$C = [x_{min}, x_{max}]^n$ is convex. \n",
    "$\\forall x,y ∈ C ||∇F(x)− ∇F(y)|| = ||(K^TK +βD^TD)(x −y)|| ≤ ν||x −y||.$\n",
    "\n",
    "C is closed with the set of minimizers on C is non empty\n",
    "\n",
    "We will use the Projected Gradient Algorithm\n",
    "\n",
    "3) We have that $f=||K.-y||$ is differentiable and belongs to $\\Gamma^0(\\mathbb{R})$, but $g$ is not differentiable and belongs to $\\Gamma^0(\\mathbb{R})$. We will use Forward-Backward Algorithm. f is differentiable and has a Lipschitzian gradient with as constant $\\max SVD(K)$ (this if finite, and a positive number).\n",
    "\n",
    "We use the Forward-Backward algorithm."
   ]
  },
  {
   "cell_type": "markdown",
   "id": "9dc00cec",
   "metadata": {},
   "source": [
    "## Q3"
   ]
  },
  {
   "cell_type": "code",
   "execution_count": 11,
   "id": "15e98656",
   "metadata": {},
   "outputs": [],
   "source": [
    "#we define beta\n",
    "beta = 1"
   ]
  },
  {
   "cell_type": "code",
   "execution_count": 12,
   "id": "3b8c75ed",
   "metadata": {},
   "outputs": [],
   "source": [
    "#We define D\n",
    "D = np.eye(N) -np.roll(np.eye(N), 1, axis=0)\n"
   ]
  },
  {
   "cell_type": "code",
   "execution_count": 13,
   "id": "d4b87f59",
   "metadata": {},
   "outputs": [],
   "source": [
    "#1) beta_opt1 = 0.2828282828282829\n",
    "beta = 0.2828282828282829\n",
    "def inverse(beta):\n",
    "    return np.linalg.inv(K.T @ K + beta* D.T @ D) @ (K.T @ y)\n",
    "\n",
    "X_sol = inverse(beta)\n"
   ]
  },
  {
   "cell_type": "code",
   "execution_count": 14,
   "id": "b834c110",
   "metadata": {},
   "outputs": [
    {
     "data": {
      "text/plain": [
       "Text(0, 0.5, 'x with smoothness prior')"
      ]
     },
     "execution_count": 14,
     "metadata": {},
     "output_type": "execute_result"
    },
    {
     "data": {
      "image/png": "[encoded data removed]",
      "text/plain": [
       "<Figure size 432x288 with 1 Axes>"
      ]
     },
     "metadata": {
      "needs_background": "light"
     },
     "output_type": "display_data"
    }
   ],
   "source": [
    "plt.xscale(\"log\")\n",
    "plt.plot(T_samp,X_sol)\n",
    "plt.title(\"NMR signals\")\n",
    "plt.xlabel(\"T\")\n",
    "plt.ylabel(\"x with smoothness prior\")"
   ]
  },
  {
   "cell_type": "code",
   "execution_count": 15,
   "id": "6de01082",
   "metadata": {},
   "outputs": [],
   "source": [
    "#2) betaopt2 = 0.0\n",
    "xmin = np.min(x)\n",
    "xmax = np.max(x)\n",
    "mu  = np.linalg.eigh(K.T @ K + beta* D.T @ D)[0][-1]"
   ]
  },
  {
   "cell_type": "code",
   "execution_count": 16,
   "id": "6f00b55f",
   "metadata": {},
   "outputs": [],
   "source": [
    "beta =0\n",
    "f = lambda x : np.linalg.norm(K@x - y) \n",
    "g = lambda x : beta *0.5* np.linalg.norm(D@x)\n",
    "\n",
    "def projection_C(y):\n",
    "    N = y.shape[0]\n",
    "    pc_y = np.zeros(N)\n",
    "    for it in range(N):\n",
    "        pc_y[it] = min(max(xmin,y[it]),xmax)\n",
    "    return pc_y\n",
    "        \n",
    "        \n",
    "def ProjectedGradientAlgorithm(k,beta):\n",
    "    xk,yk, xk1,yk1 = np.zeros(N),np.zeros(N),np.zeros(N),np.zeros(N) #we define x_k, y_k, x_(k+1) and y_(k+1)\n",
    "    gamma = 1/mu\n",
    "    lamda = 1.5/2\n",
    "    \n",
    "    for iteration in range(k):\n",
    "        \n",
    "        yk1 = xk -gamma*((K.T @ K) @xk -K.T @y +beta*D.T@D@xk)\n",
    "        xk1 = xk +lamda*(projection_C(yk) - xk )\n",
    "        \n",
    "        xk, yk = np.copy(xk1), np.copy(yk1)\n",
    "        \n",
    "    \n",
    "    return xk\n",
    "Xsol2 = ProjectedGradientAlgorithm(10000,beta)"
   ]
  },
  {
   "cell_type": "code",
   "execution_count": 17,
   "id": "13505be5",
   "metadata": {},
   "outputs": [
    {
     "data": {
      "text/plain": [
       "Text(0, 0.5, 'x with smoothness prior')"
      ]
     },
     "execution_count": 17,
     "metadata": {},
     "output_type": "execute_result"
    },
    {
     "data": {
      "image/png": "[encoded data removed]",
      "text/plain": [
       "<Figure size 432x288 with 1 Axes>"
      ]
     },
     "metadata": {
      "needs_background": "light"
     },
     "output_type": "display_data"
    }
   ],
   "source": [
    "plt.xscale(\"log\")\n",
    "plt.plot(T_samp,Xsol2)\n",
    "plt.title(\"NMR signals\")\n",
    "plt.xlabel(\"T\")\n",
    "plt.ylabel(\"x with smoothness prior\")"
   ]
  },
  {
   "cell_type": "code",
   "execution_count": 18,
   "id": "155a1ace",
   "metadata": {},
   "outputs": [],
   "source": [
    "#3)beta_opt3 = 0.10101010101010102\n",
    "\n",
    "beta = 0.10101010101010102\n",
    "def proximal_norm1(v,gamma,beta):\n",
    "    prox = np.zeros(v.shape[0])\n",
    "    \n",
    "    for i in range(v.shape[0]):\n",
    "        sign = 2*float (v[i]>0) - 1\n",
    "        prox[i] = sign *max(0, abs(v[i])- gamma*beta)\n",
    "        \n",
    "    return prox\n",
    "    \n",
    "def ForwardBackward(k,beta):\n",
    "    \n",
    "    xk,yk, xk1,yk1 = np.zeros(N),np.zeros(N),np.zeros(N),np.zeros(N) #we define x_k, y_k, x_(k+1) and y_(k+1)\n",
    "    gamma = 1/mu\n",
    "    lamda = 1.5/2\n",
    "    \n",
    "    for iteration in range(k):\n",
    "        \n",
    "        yk1 = xk -gamma*K.T@(K @xk -y) \n",
    "        xk1 = xk +lamda*(proximal_norm1(yk,gamma,beta) - xk )\n",
    "        \n",
    "        xk, yk = np.copy(xk1), np.copy(yk1)\n",
    "        \n",
    "    \n",
    "    return xk\n",
    "    \n",
    "Xsol3 = ForwardBackward(10000,beta)\n",
    "    \n",
    "    "
   ]
  },
  {
   "cell_type": "code",
   "execution_count": 19,
   "id": "7403c5f4",
   "metadata": {},
   "outputs": [
    {
     "data": {
      "text/plain": [
       "Text(0, 0.5, 'x with smoothness prior')"
      ]
     },
     "execution_count": 19,
     "metadata": {},
     "output_type": "execute_result"
    },
    {
     "data": {
      "image/png": "[encoded data removed]",
      "text/plain": [
       "<Figure size 432x288 with 1 Axes>"
      ]
     },
     "metadata": {
      "needs_background": "light"
     },
     "output_type": "display_data"
    }
   ],
   "source": [
    "plt.xscale(\"log\")\n",
    "plt.plot(T_samp,Xsol3)\n",
    "plt.title(\"NMR signals\")\n",
    "plt.xlabel(\"T\")\n",
    "plt.ylabel(\"x with smoothness prior\")"
   ]
  },
  {
   "cell_type": "markdown",
   "id": "60bc2f0d",
   "metadata": {},
   "source": [
    "## Q4"
   ]
  },
  {
   "cell_type": "code",
   "execution_count": 20,
   "id": "bce2a335",
   "metadata": {},
   "outputs": [],
   "source": [
    "def normalized_quadratic_error(xhat,xbar):\n",
    "    return (np.linalg.norm(xhat - xbar)/np.linalg.norm(xbar))**2"
   ]
  },
  {
   "cell_type": "code",
   "execution_count": 21,
   "id": "0ff7732c",
   "metadata": {},
   "outputs": [
    {
     "name": "stdout",
     "output_type": "stream",
     "text": [
      "The normalized quadratic error for 1) is  0.4145167047681945\n"
     ]
    }
   ],
   "source": [
    "#1)\n",
    "print(\"The normalized quadratic error for 1) is \", normalized_quadratic_error(X_sol,x))"
   ]
  },
  {
   "cell_type": "code",
   "execution_count": 22,
   "id": "ceacea8d",
   "metadata": {},
   "outputs": [
    {
     "name": "stdout",
     "output_type": "stream",
     "text": [
      "The normalized quadratic error for 2) is  0.21565787449699622\n"
     ]
    }
   ],
   "source": [
    "#2)\n",
    "print(\"The normalized quadratic error for 2) is \", normalized_quadratic_error(Xsol2,x))"
   ]
  },
  {
   "cell_type": "code",
   "execution_count": 23,
   "id": "e34c49eb",
   "metadata": {},
   "outputs": [
    {
     "name": "stdout",
     "output_type": "stream",
     "text": [
      "The normalized quadratic error for 3) is  0.26463864191604336\n"
     ]
    }
   ],
   "source": [
    "#3)\n",
    "print(\"The normalized quadratic error for 3) is \", normalized_quadratic_error(Xsol3,x))"
   ]
  },
  {
   "cell_type": "markdown",
   "id": "17a4602e",
   "metadata": {},
   "source": [
    "## Q5"
   ]
  },
  {
   "cell_type": "code",
   "execution_count": 63,
   "id": "304c70cf",
   "metadata": {},
   "outputs": [],
   "source": [
    "beta_Opt1 = min ( np.linspace(0,1,100) , key = lambda b : normalized_quadratic_error(inverse(b),x) )\n",
    "beta_Opt2 = min ( np.linspace(0,1,100) , key = lambda b : normalized_quadratic_error(ProjectedGradientAlgorithm(10000,b),x) )\n",
    "beta_Opt3 = min ( np.linspace(0,1,100) , key = lambda b : normalized_quadratic_error(ForwardBackward(10000,b),x) )\n"
   ]
  },
  {
   "cell_type": "markdown",
   "id": "b5a218d4",
   "metadata": {},
   "source": [
    "# Part II"
   ]
  },
  {
   "cell_type": "markdown",
   "id": "70a0b7ea",
   "metadata": {},
   "source": [
    "## 1 Maximum entropy regularization "
   ]
  },
  {
   "cell_type": "markdown",
   "id": "9a20743b",
   "metadata": {},
   "source": [
    "### Q1 "
   ]
  },
  {
   "cell_type": "markdown",
   "id": "f42d45bb",
   "metadata": {},
   "source": [
    "ent is proper as there exist $x$ such that $\\text{ent}(x) < +\\infty$. ent is differentiable on $\\mathbb{R}^*_+$ but not on $\\mathbb{R}^-$. It is lower-semicontinous.  ent is strictly convex."
   ]
  },
  {
   "cell_type": "markdown",
   "id": "9be7fef7",
   "metadata": {},
   "source": [
    "### Q2 "
   ]
  },
  {
   "cell_type": "markdown",
   "id": "9468f504",
   "metadata": {},
   "source": [
    "As the function ent is strictly convex and $||K.-y||$ is convex, the sum of a convex function and a strictly convex function is stricly convex. The problem admits only one solution. "
   ]
  },
  {
   "cell_type": "markdown",
   "id": "e0726606",
   "metadata": {},
   "source": [
    "### Q3 "
   ]
  },
  {
   "cell_type": "markdown",
   "id": "50fd84ea",
   "metadata": {},
   "source": [
    "The proximal of ent is:\n",
    "\n",
    "$$\\text{prox}_{\\gamma \\beta ent}(v)=(p_n) \\text{  with  } p_n = \\gamma \\beta W(\\exp\\left(\\frac{v_n}{\\gamma \\beta} -1 - \\ln(\\gamma \\beta))\\right)$$"
   ]
  },
  {
   "cell_type": "markdown",
   "id": "572a3f51",
   "metadata": {},
   "source": [
    "### Q4 "
   ]
  },
  {
   "cell_type": "code",
   "execution_count": 49,
   "id": "87361739",
   "metadata": {},
   "outputs": [],
   "source": [
    "from scipy.special import lambertw\n",
    "\n",
    "def lambert_o_exp(z):\n",
    "    \"\"\" fonction calculant Lambert o exponentielle, issue du drive LSO \"\"\"\n",
    "    if z > 100:\n",
    "        return z - np.log(z)        \n",
    "    if z < -20 :\n",
    "        return 0\n",
    "    w = 1\n",
    "    v = np.float64(\"inf\")\n",
    "    x = np.exp(z)\n",
    "    while np.abs(w-v)/np.abs(w)>1e-8:\n",
    "        v = w\n",
    "        e = np.exp(w)\n",
    "        f = w*e - x \n",
    "        w = w - f/((e*(w+1) - (w+2)*f/(2*w+2)))\n",
    "    return w\n",
    "\n"
   ]
  },
  {
   "cell_type": "code",
   "execution_count": 50,
   "id": "4cec7bf5",
   "metadata": {},
   "outputs": [],
   "source": [
    "def prox_ent(v,gamma,beta):\n",
    "    \n",
    "    p = np.zeros(v.shape[0]) \n",
    "    \n",
    "    for i in range(v.shape[0]):\n",
    "        p[n]= gamma*beta* lambert_o_exp( (v[n]/(gamma*beta) - 1 -np.log(gamma*beta)) )\n",
    "        if p[n].imag > p[n].real:\n",
    "            print(\"boum\")\n",
    "        p[n] = p[n].real\n",
    "    \n",
    "    return np.array(p)"
   ]
  },
  {
   "cell_type": "code",
   "execution_count": 51,
   "id": "be33ca1d",
   "metadata": {},
   "outputs": [],
   "source": [
    "def douglas_rachford_algo(k,beta):\n",
    "    s = np.zeros(N)\n",
    "    t = np.zeros(N)\n",
    "    u = np.zeros(N)\n",
    "    lamda = 1\n",
    "    gamma = 1/mu\n",
    "    \n",
    "    for it in range(k):\n",
    "        t = prox_ent(s, gamma, beta)\n",
    "        u = np.linalg.inv(gamma *K.T @K +np.eye(N)) @ (gamma*(K.T@y) +2*t -s)\n",
    "        s = s + lamda*(u - t)\n",
    "        \n",
    "        lamda = 1/(it+2)\n",
    "    \n",
    "    return s"
   ]
  },
  {
   "cell_type": "code",
   "execution_count": 52,
   "id": "1fc09f30",
   "metadata": {},
   "outputs": [],
   "source": [
    "Xsol4 = douglas_rachford_algo(10000,0.0001)"
   ]
  },
  {
   "cell_type": "code",
   "execution_count": 53,
   "id": "7bbddecd",
   "metadata": {},
   "outputs": [
    {
     "data": {
      "text/plain": [
       "Text(0, 0.5, 'x')"
      ]
     },
     "execution_count": 53,
     "metadata": {},
     "output_type": "execute_result"
    },
    {
     "data": {
      "image/png": "[encoded data removed]",
      "text/plain": [
       "<Figure size 432x288 with 1 Axes>"
      ]
     },
     "metadata": {
      "needs_background": "light"
     },
     "output_type": "display_data"
    }
   ],
   "source": [
    "plt.xscale(\"log\")\n",
    "plt.plot(T_samp,Xsol4)\n",
    "plt.title(\"NMR signals\")\n",
    "plt.xlabel(\"T\")\n",
    "plt.ylabel(\"x\")"
   ]
  },
  {
   "cell_type": "code",
   "execution_count": 54,
   "id": "0da2cac7",
   "metadata": {},
   "outputs": [
    {
     "name": "stdout",
     "output_type": "stream",
     "text": [
      "The normalized quadratic error for the Rachford is  0.7832050753464888\n"
     ]
    }
   ],
   "source": [
    "print(\"The normalized quadratic error for the Rachford is \", normalized_quadratic_error(Xsol4,x))"
   ]
  },
  {
   "cell_type": "code",
   "execution_count": 55,
   "id": "3596ce46",
   "metadata": {},
   "outputs": [],
   "source": [
    "def ForwardBackward_ent(k,beta):\n",
    "    \n",
    "    xk,yk, xk1,yk1 = np.zeros(N),np.zeros(N),np.zeros(N),np.zeros(N) #we define x_k, y_k, x_(k+1) and y_(k+1)\n",
    "    gamma = 1/mu\n",
    "    lamda = 1.5/2\n",
    "    \n",
    "    for iteration in range(k):\n",
    "        \n",
    "        yk1 = xk -gamma*K.T@(K @xk -y) \n",
    "        xk1 = xk +lamda*( prox_ent(yk,gamma,beta) - xk )\n",
    "        \n",
    "        xk, yk = np.copy(xk1), np.copy(yk1)\n",
    "        \n",
    "    \n",
    "    return xk"
   ]
  },
  {
   "cell_type": "code",
   "execution_count": 56,
   "id": "eb801688",
   "metadata": {},
   "outputs": [],
   "source": [
    "Xsol5 = ForwardBackward_ent(10000,0.0001)"
   ]
  },
  {
   "cell_type": "code",
   "execution_count": 57,
   "id": "b45d0d08",
   "metadata": {},
   "outputs": [
    {
     "data": {
      "text/plain": [
       "Text(0, 0.5, 'x')"
      ]
     },
     "execution_count": 57,
     "metadata": {},
     "output_type": "execute_result"
    },
    {
     "data": {
      "image/png": "[encoded data removed]",
      "text/plain": [
       "<Figure size 432x288 with 1 Axes>"
      ]
     },
     "metadata": {
      "needs_background": "light"
     },
     "output_type": "display_data"
    }
   ],
   "source": [
    "plt.xscale(\"log\")\n",
    "plt.plot(T_samp,Xsol5)\n",
    "plt.title(\"NMR signals\")\n",
    "plt.xlabel(\"T\")\n",
    "plt.ylabel(\"x\")"
   ]
  },
  {
   "cell_type": "markdown",
   "id": "80ab10a9",
   "metadata": {},
   "source": [
    "## Q7"
   ]
  },
  {
   "cell_type": "markdown",
   "id": "eadac5bc",
   "metadata": {},
   "source": [
    "## Q8"
   ]
  },
  {
   "cell_type": "code",
   "execution_count": null,
   "id": "e7a8635e",
   "metadata": {},
   "outputs": [],
   "source": []
  }
 ],
 "metadata": {
  "kernelspec": {
   "display_name": "Python 3 (ipykernel)",
   "language": "python",
   "name": "python3"
  },
  "language_info": {
   "codemirror_mode": {
    "name": "ipython",
    "version": 3
   },
   "file_extension": ".py",
   "mimetype": "text/x-python",
   "name": "python",
   "nbconvert_exporter": "python",
   "pygments_lexer": "ipython3",
   "version": "3.9.12"
  }
 },
 "nbformat": 4,
 "nbformat_minor": 5
}
