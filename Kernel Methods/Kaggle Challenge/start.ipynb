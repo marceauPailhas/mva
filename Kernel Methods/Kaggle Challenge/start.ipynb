{
 "cells": [
  {
   "cell_type": "code",
   "execution_count": 2,
   "id": "4fbf7aa0",
   "metadata": {},
   "outputs": [],
   "source": [
    "import pickle \n",
    "import matplotlib.pyplot as plt\n",
    "import numpy as np\n",
    "import numpy.linalg as linalg\n",
    "import scipy.sparse  \n",
    "import networkx as nx"
   ]
  },
  {
   "cell_type": "code",
   "execution_count": 3,
   "id": "992bf0ac",
   "metadata": {},
   "outputs": [],
   "source": [
    "file_training_data = open('data-challenge-kernel-methods-2022-2023\\\\training_data.pkl', 'rb')\n",
    "file_training_labels = open('data-challenge-kernel-methods-2022-2023\\\\training_labels.pkl', 'rb')\n",
    "\n",
    "# dump information to that file\n",
    "data = pickle.load(file_training_data)\n",
    "labels = pickle.load(file_training_labels)\n",
    "\n",
    "# close the file\n",
    "file_training_data.close()\n",
    "file_training_labels.close()"
   ]
  },
  {
   "cell_type": "code",
   "execution_count": 4,
   "id": "b65da482",
   "metadata": {},
   "outputs": [],
   "source": [
    "file_test_data = open('data-challenge-kernel-methods-2022-2023\\\\test_data.pkl', 'rb')\n",
    "\n",
    "# dump information to that file\n",
    "data_test = pickle.load(file_test_data)\n",
    "\n",
    "\n",
    "# close the file\n",
    "file_test_data.close()"
   ]
  },
  {
   "cell_type": "markdown",
   "id": "e05d1504",
   "metadata": {},
   "source": [
    "# Preprocessing "
   ]
  },
  {
   "attachments": {
    "data0.png": {
     "image/png": "[encoded data removed]"
    }
   },
   "cell_type": "markdown",
   "id": "e9b677f3",
   "metadata": {},
   "source": [
    "![data0.png](attachment:data0.png)"
   ]
  },
  {
   "cell_type": "markdown",
   "id": "845d2355",
   "metadata": {},
   "source": [
    "Les noeuds sont labelisés par un entier et les liasons [0,1,2,3]"
   ]
  },
  {
   "cell_type": "code",
   "execution_count": 6,
   "id": "86706879",
   "metadata": {},
   "outputs": [
    {
     "data": {
      "text/plain": [
       "NodeView((0, 1, 2, 3, 4, 5, 6, 7, 8, 9, 10, 11, 12, 13, 14, 15))"
      ]
     },
     "execution_count": 6,
     "metadata": {},
     "output_type": "execute_result"
    }
   ],
   "source": [
    "data[0].nodes"
   ]
  },
  {
   "cell_type": "code",
   "execution_count": 10,
   "id": "3214a056",
   "metadata": {},
   "outputs": [],
   "source": [
    "def edge_subg(subgraph):\n",
    "    liste = list()\n",
    "    for i in range(1,len(subgraph)):\n",
    "        liste.append((subgraph[i-1], subgraph[i]))\n",
    "        liste.append((subgraph[i], subgraph[i-1]))\n",
    "    return liste"
   ]
  },
  {
   "cell_type": "code",
   "execution_count": 11,
   "id": "f26def87",
   "metadata": {},
   "outputs": [],
   "source": [
    "def Subgraph(Graph,n):\n",
    "    all_subgraphs=dict({})\n",
    "    if n>=1:\n",
    "        all_subgraphs[1]=list()\n",
    "        \n",
    "        for node in Graph.nodes: #taille 1\n",
    "            all_subgraphs[1].append(tuple( (node,) ) )\n",
    "            \n",
    "    if n>=2:\n",
    "        all_subgraphs[2] = list()\n",
    "        for edge in Graph.edges:\n",
    "            all_subgraphs[2].append(edge)\n",
    "            \n",
    "    for k in range(3,n+1):\n",
    "        all_subgraphs[k] = list()\n",
    "        for subgraph in all_subgraphs[k-1]:\n",
    "            for edge in Graph.edges : \n",
    "\n",
    "                if edge in edge_subg(subgraph):\n",
    "                    break \n",
    "\n",
    "                if subgraph[0] == edge[0]:\n",
    "                    all_subgraphs[k].append(tuple ( [edge[1]]+list(subgraph)))\n",
    "\n",
    "                if subgraph[0] == edge[1]:\n",
    "                    all_subgraphs[k].append(tuple ( [edge[0]]+list(subgraph)))\n",
    "\n",
    "                if subgraph[-1] == edge[1]:\n",
    "                    all_subgraphs[k].append(tuple ( list(subgraph) +[edge[0]]))\n",
    "\n",
    "                if subgraph[-1] == edge[0]:\n",
    "                    all_subgraphs[k].append(tuple ( list(subgraph) +[edge[1]]))\n",
    "                    \n",
    "    return all_subgraphs\n",
    "        "
   ]
  },
  {
   "cell_type": "code",
   "execution_count": 18,
   "id": "23f99df0",
   "metadata": {},
   "outputs": [
    {
     "name": "stdout",
     "output_type": "stream",
     "text": [
      "All the paths present in the first molecule of the dataset is:\n",
      "\n",
      "     -  Size 1 :  [(0,), (1,), (2,), (3,), (4,), (5,), (6,), (7,), (8,), (9,), (10,), (11,), (12,), (13,), (14,), (15,)]\n",
      "     -  Size 2 :  [(0, 1), (0, 3), (0, 8), (1, 4), (1, 7), (2, 6), (2, 9), (2, 10), (3, 5), (4, 11), (5, 6), (7, 15), (8, 14), (9, 12), (10, 13), (14, 15)]\n",
      "     -  Size 3 :  [(1, 0, 3), (1, 0, 8), (3, 0, 8), (0, 1, 4), (0, 1, 7), (4, 1, 7), (6, 2, 9), (6, 2, 10), (9, 2, 10), (0, 3, 5), (1, 4, 11), (5, 6, 2), (3, 5, 6), (1, 7, 15), (0, 8, 14), (2, 9, 12), (2, 10, 13), (14, 15, 7), (8, 14, 15)]\n",
      "     -  Size 4 :  [(1, 0, 3, 5), (0, 1, 4, 11), (0, 3, 5, 6), (3, 5, 6, 2), (0, 1, 7, 15), (4, 1, 7, 15), (1, 0, 8, 14), (3, 0, 8, 14), (6, 2, 9, 12), (6, 2, 10, 13), (9, 2, 10, 13), (14, 15, 7, 1), (0, 8, 14, 15), (8, 14, 15, 7)]\n",
      "     -  Size 5 :  [(1, 0, 3, 5, 6), (0, 3, 5, 6, 2), (14, 15, 7, 1, 0), (14, 15, 7, 1, 4), (1, 0, 8, 14, 15), (3, 0, 8, 14, 15), (0, 8, 14, 15, 7), (8, 14, 15, 7, 1)]\n"
     ]
    }
   ],
   "source": [
    "path_dict = Subgraph(data[0],5)\n",
    "print(\"All the paths present in the first molecule of the dataset is:\\n\")\n",
    "for key in path_dict.keys():\n",
    "    print(f'     -  Size {key} : ', path_dict[key])"
   ]
  },
  {
   "cell_type": "code",
   "execution_count": 19,
   "id": "ebd45494",
   "metadata": {},
   "outputs": [],
   "source": [
    "alphabet='A B C D E F G H I J K L M N O P Q R S T U V W X Y Z a b c d e f g h i j k l m n o p q r s t u v w x y z'.split()\n",
    "def from_nodes_to_atoms_and_bonds(Graph,tup):\n",
    "    #print((Graph.nodes[tup[0]])['labels'][0])\n",
    "    char= alphabet [ (Graph.nodes[tup[0]])['labels'][0] ]\n",
    "    #print(char)\n",
    "    for i in range(1,len(tup)):\n",
    "        try :\n",
    "            char+= str((Graph.edges[(tup[i-1],tup[i])])['labels'][0])\n",
    "        except KeyError:\n",
    "            raise TypeError ('Your tup is not a subgraph')\n",
    "        #print('here', (Graph.edges[(tup[i-1],tup[i])])['labels'][0])\n",
    "        char+=alphabet [ (Graph.nodes[tup[i]])['labels'][0] ]\n",
    "        #print('there', (Graph.nodes[tup[i]])['labels'][0] )\n",
    "    \n",
    "    if tup[0]==tup[-1] and len(tup)>2: #it is a cycle \n",
    "        return 'cyc_'+char+'_cyc'\n",
    "        \n",
    "    return char"
   ]
  },
  {
   "cell_type": "code",
   "execution_count": 23,
   "id": "66d5acd9",
   "metadata": {},
   "outputs": [
    {
     "name": "stdout",
     "output_type": "stream",
     "text": [
      "In molecule 1, the path (0, 1, 4, 11) gets converted to B2B0A0B .\n",
      "This string chain represents atoms and bonds present in the molecule independently on the indexing of nodes. \n"
     ]
    }
   ],
   "source": [
    "print(\"In molecule 1, the path (0, 1, 4, 11) gets converted to\", from_nodes_to_atoms_and_bonds(data[0],(0, 1, 4, 11)),'.')\n",
    "print('This string chain represents atoms and bonds present in the molecule independently on the indexing of nodes. ')"
   ]
  },
  {
   "cell_type": "code",
   "execution_count": 24,
   "id": "609ba29d",
   "metadata": {},
   "outputs": [],
   "source": [
    "def from_Graph_to_vector(Graph, n):\n",
    "    all_subgraphs = Subgraph(Graph,n)\n",
    "    \n",
    "    all_char = {i: [from_nodes_to_atoms_and_bonds(Graph,tup) for tup in all_subgraphs[i]] for i in all_subgraphs.keys()}\n",
    "    \n",
    "    counter = dict({})\n",
    "    for i in range(1,n+1):\n",
    "        for char in all_char[i]:\n",
    "            if 'cyc' in char.split('_'):\n",
    "                char_ = char\n",
    "                char__ = char.split('_')[1] #on garde le milieu \n",
    "                #print('le départ est ici')\n",
    "                #la taille est i, il y a i atomes\n",
    "                for permutation in range(i-1):\n",
    "                    #print(char_)\n",
    "                    if char_ in counter.keys() :\n",
    "                        counter[char_]+= 1 #+=1 one hot_encoding\n",
    "                        break\n",
    "                    elif char_[::-1] in counter.keys() : \n",
    "                        counter[char_[::-1]]+= 1 #+=1 one hot encoding\n",
    "                        break\n",
    "                        \n",
    "                    char__= char__[-3:-1]+char__[:-2] #effectue un permutation\n",
    "                    char_ = 'cyc_'+char__+'_cyc'\n",
    "                    \n",
    "                    if permutation ==i-2: #le cycle n'a pas été trouvé\n",
    "                        counter[char]=1\n",
    "            \n",
    "            \n",
    "            else:\n",
    "                if char in counter.keys() :\n",
    "                    counter[char]+= 1 #+=1 one hot_encoding\n",
    "                elif char[::-1] in counter.keys() : \n",
    "                    counter[char[::-1]]+= 1 #+=1 one hot encoding \n",
    "                else :\n",
    "                    counter[char]=1\n",
    "                \n",
    "    return counter"
   ]
  },
  {
   "cell_type": "code",
   "execution_count": 25,
   "id": "d769559d",
   "metadata": {},
   "outputs": [
    {
     "name": "stdout",
     "output_type": "stream",
     "text": [
      "In molecule 1, the present path in terms of type of atoms and bonds are :\n",
      " {'B': 13, 'C': 1, 'A': 2, 'B2B': 6, 'B0A': 4, 'C0B': 3, 'B0B': 3, 'B2B0A': 4, 'B2B2B': 6, 'B0C0B': 3, 'B0A0B': 2, 'B0B0C': 3, 'A0B0B': 1, 'B2B0A0B': 2, 'B0A0B0B': 1, 'A0B0B0C': 1, 'B2B2B2B': 5, 'A0B2B2B': 2, 'B0C0B0B': 3, 'B2B0A0B0B': 1, 'B0A0B0B0C': 1, 'B2B2B2B2B': 4, 'B2B2B2B0A': 2}\n"
     ]
    }
   ],
   "source": [
    "print(\"In molecule 1, the present path in terms of type of atoms and bonds are :\\n\", from_Graph_to_vector(data[0], 5))"
   ]
  },
  {
   "cell_type": "code",
   "execution_count": 26,
   "id": "e117efdf",
   "metadata": {},
   "outputs": [],
   "source": [
    "from tqdm import tqdm"
   ]
  },
  {
   "cell_type": "code",
   "execution_count": 27,
   "id": "6984fb58",
   "metadata": {},
   "outputs": [
    {
     "name": "stderr",
     "output_type": "stream",
     "text": [
      "100%|█████████████████████████████████████████████████████████████████████████████| 6000/6000 [00:08<00:00, 670.81it/s]\n"
     ]
    }
   ],
   "source": [
    "data_vector=list()\n",
    "for i in tqdm(range(len(data))):\n",
    "    data_vector.append( from_Graph_to_vector(data[i], 5) )\n",
    "data_vector = np.array(data_vector, dtype = dict)"
   ]
  },
  {
   "cell_type": "code",
   "execution_count": 28,
   "id": "c3a7ec96",
   "metadata": {},
   "outputs": [
    {
     "name": "stderr",
     "output_type": "stream",
     "text": [
      "100%|█████████████████████████████████████████████████████████████████████████████| 2000/2000 [00:06<00:00, 314.63it/s]\n"
     ]
    }
   ],
   "source": [
    "data_test_vector=list()\n",
    "for i in tqdm(range(len(data_test))):\n",
    "    data_test_vector.append( from_Graph_to_vector(data_test[i], 5) )\n",
    "data_test_vector = np.array( data_test_vector, dtype = dict)"
   ]
  },
  {
   "cell_type": "markdown",
   "id": "d95776da",
   "metadata": {},
   "source": [
    "The preprocessing is done. "
   ]
  },
  {
   "cell_type": "markdown",
   "id": "1e1c390f",
   "metadata": {},
   "source": [
    "# Compute Kernel"
   ]
  },
  {
   "cell_type": "code",
   "execution_count": 29,
   "id": "84fe9774",
   "metadata": {},
   "outputs": [],
   "source": [
    "def k_min_max(vec1,vec2):\n",
    "    'définis le kernel min_max, ici la somme est sur les sousgraphes, on ajoute 0 si le sousgraphe est présent dans aucun des graphes'\n",
    "    #produit_scalaire = 0\n",
    "    min_sum = 0\n",
    "    max_sum = 0\n",
    "    for char in union_keys(vec1.keys(),vec2.keys()):\n",
    "        \n",
    "        \n",
    "        if in_keys(char, vec1):\n",
    "            if in_keys(char, vec2):\n",
    "                ##char present in the two graph\n",
    "                \n",
    "                min_sum += min( reversable_indexing(vec1, char),reversable_indexing(vec2, char) )\n",
    "                max_sum += max( reversable_indexing(vec1, char),reversable_indexing(vec2, char) )\n",
    "                \n",
    "            else:\n",
    "                ##char present in the graph 1, but in graph 2\n",
    "                max_sum += reversable_indexing(vec1, char)\n",
    "        \n",
    "        else:\n",
    "            if in_keys(char, vec2):\n",
    "                ##char present in the graph 2, but in graph 1\n",
    "                max_sum += reversable_indexing(vec2, char)\n",
    "                \n",
    "            else :\n",
    "                ##char not present in any graph\n",
    "                print('you are not supposed to go in this case')\n",
    "                \n",
    "\n",
    "    ## dans les autres cas, on rajoute 0\n",
    "    if max_sum==0:\n",
    "        return 0\n",
    "    #print(min_sum, max_sum)\n",
    "    \n",
    "    return min_sum/max_sum\n",
    "        "
   ]
  },
  {
   "cell_type": "code",
   "execution_count": 30,
   "id": "d0f1172b",
   "metadata": {},
   "outputs": [],
   "source": [
    "def in_keys(char, vec):\n",
    "    if (char in vec.keys() or char[::-1] in vec.keys()):\n",
    "        return True\n",
    "    ##classique comme tout à l'heure\n",
    "    if not('cyc' in char.split('_') ):\n",
    "        return False\n",
    "    ##on s'occupe du cas où il y a des cycles\n",
    "    ##on va regarder si il y au moins une permutation de char dans le graphe\n",
    "    char_ = char\n",
    "    char__ = char.split('_')[1] #on garde le milieu \n",
    "    \n",
    "    for permutation in range(((len(char)-8)//2)+1):\n",
    "        #print(char_)\n",
    "        if char_ in vec.keys() :\n",
    "            return True\n",
    "        elif char_[::-1] in vec.keys() : \n",
    "            return True\n",
    "\n",
    "        char__= char__[-3:-1]+char__[:-2] #effectue un permutation\n",
    "        char_ = 'cyc_'+char__+'_cyc'\n",
    "\n",
    "    return False "
   ]
  },
  {
   "cell_type": "code",
   "execution_count": 31,
   "id": "905d7c52",
   "metadata": {},
   "outputs": [],
   "source": [
    "def reversable_indexing(vec, key):\n",
    "    'this otputs the value of the equivalent key. Two keys are equivalent if they are reversed of one another.\\\n",
    "    For cycles, keys are equivalent if there exist a cyclic permutation that maps the first on the second one.'\n",
    "    if key in vec.keys() and key[::-1] in vec.keys():\n",
    "    \n",
    "        #print('the key appears twice')\n",
    "        if vec[key]==vec[key[::-1]]:\n",
    "            return vec[key]\n",
    "        else:\n",
    "            raise NameError('A same index is mentionned twice and has different values')\n",
    "            \n",
    "    if key in vec.keys():\n",
    "        return vec[key]\n",
    "    if key[::-1] in vec.keys():\n",
    "        return vec[key[::-1]]\n",
    "    \n",
    "    if 'cyc' in key.split('_') :\n",
    "        char_ = key\n",
    "        char__ = key.split('_')[1] #on garde le milieu \n",
    "    \n",
    "        for permutation in range(((len(key)-8)//2)+3):\n",
    "            #print(char_)\n",
    "            if char_ in vec.keys() :\n",
    "                return vec[char_]\n",
    "            elif char_[::-1] in vec.keys() : \n",
    "                return vec[char_[::-1]]\n",
    "\n",
    "            char__= char__[-3:-1]+char__[:-2] #effectue un permutation\n",
    "            char_ = 'cyc_'+char__+'_cyc'\n",
    "    \n",
    "    raise KeyError ('The input key is not in the vector keys ')\n",
    "    \n",
    "    "
   ]
  },
  {
   "cell_type": "code",
   "execution_count": 32,
   "id": "6df7dfe9",
   "metadata": {},
   "outputs": [],
   "source": [
    "def union_keys(keys1,keys2):\n",
    "    set_ = set( keys1 ).union( set(  keys2 ) )\n",
    "    #print(set_)\n",
    "    set_final = list()\n",
    "    for element in set_:\n",
    "        if not(element in set_final) and not(element[::-1] in set_final):\n",
    "            set_final.append(element)\n",
    "    return set_final"
   ]
  },
  {
   "cell_type": "markdown",
   "id": "ae88778a",
   "metadata": {},
   "source": [
    "Here a small example of computation $k(G_1,G_2)$."
   ]
  },
  {
   "cell_type": "code",
   "execution_count": 33,
   "id": "40c34baa",
   "metadata": {},
   "outputs": [
    {
     "data": {
      "text/plain": [
       "0.3125"
      ]
     },
     "execution_count": 33,
     "metadata": {},
     "output_type": "execute_result"
    }
   ],
   "source": [
    "vec1 = dict({ 'bc':1,'bcd':1, 'u':1, 'c1b0a':2, 'cyc_A0B0C0D0A_cyc':1})\n",
    "vec2 = dict({'c1b0a':1, 'cb':1,'bcd':1, 'ko':7, 'cyc_B0C0D0A0B_cyc':2})\n",
    "k_min_max(vec1,vec2)"
   ]
  },
  {
   "cell_type": "markdown",
   "id": "2ab56bdd",
   "metadata": {},
   "source": [
    "# Compute Gramm Matrix and SVM"
   ]
  },
  {
   "cell_type": "code",
   "execution_count": 34,
   "id": "a7957d04",
   "metadata": {},
   "outputs": [],
   "source": [
    "## we use our implementation of svm from assignment 2\n",
    "from svm import KernelSVC"
   ]
  },
  {
   "cell_type": "code",
   "execution_count": 35,
   "id": "c56ba127",
   "metadata": {},
   "outputs": [],
   "source": [
    "from time import time "
   ]
  },
  {
   "cell_type": "code",
   "execution_count": 36,
   "id": "8a3667cd",
   "metadata": {},
   "outputs": [],
   "source": [
    "def kernel(X,Y,same=False):\n",
    "    if same == True:\n",
    "        a = np.zeros((len(X), len(Y)))\n",
    "        for i in range(len(X)):\n",
    "            for j in range(i+1):\n",
    "                a[i,j] = k_min_max(X[i],Y[j])\n",
    "        return a + a.T - np.diag(a.diagonal())\n",
    "        \n",
    "    return np.array([[k_min_max(x,y) for y in Y] for x in X])"
   ]
  },
  {
   "cell_type": "code",
   "execution_count": 184,
   "id": "5f5b7118",
   "metadata": {},
   "outputs": [],
   "source": [
    "from sklearn.model_selection import train_test_split\n",
    "\n",
    "##on définit les sous-datasets sur lesquels on va faire nos entraînements et évaluations,\n",
    "##le split dataset de train fait 1200 échantillons, le split test dataset fait 400 molécules\n",
    "X_train_split, X_test_split, y_train_split, y_test_split = train_test_split(data_vector, labels, \n",
    "                                                    test_size=0.07, train_size=0.2,\n",
    "                                                    random_state=22)"
   ]
  },
  {
   "cell_type": "code",
   "execution_count": 186,
   "id": "2124a055",
   "metadata": {},
   "outputs": [
    {
     "name": "stdout",
     "output_type": "stream",
     "text": [
      "Start of the computation of the gramm matrix\n",
      "End of the computation of the gramm matrix.\n",
      "Temps écoulé 83.65727066993713 s\n",
      "Start of the minimization of the cost function\n",
      "End of the minimization.\n",
      "Temps écoulé 620.1601438522339 s\n"
     ]
    }
   ],
   "source": [
    "C=100.\n",
    "\n",
    "model2 = KernelSVC(kernel=kernel,C=C)\n",
    "\n",
    "#x_over_sample, y_over_sample = random_Oversample(X_train_split,y_train_split)\n",
    "model2.fit(X_train_split, y_train_split) \n",
    "## \n",
    "##\n",
    "#C=1, on avait aucun points en marge\n",
    "#on regarde C=100"
   ]
  },
  {
   "cell_type": "code",
   "execution_count": null,
   "id": "a8f67b50",
   "metadata": {},
   "outputs": [],
   "source": [
    "import pickle\n",
    "\n",
    "# Garde en mémoire le modèle\n",
    "with open('model.pkl', 'wb') as fichier:\n",
    "    # Écrire l'objet dans le fichier\n",
    "    pickle.dump(model2, fichier)"
   ]
  },
  {
   "cell_type": "code",
   "execution_count": null,
   "id": "ea17ea38",
   "metadata": {
    "scrolled": true
   },
   "outputs": [],
   "source": [
    "print('Alpha =', model2.alpha)\n",
    "print(\"On vérifie que les points ont bien été pris en compte lors du fit.\\\n",
    "        Il faut qu'une grande partie des alpha soit entre 0 et C\")"
   ]
  },
  {
   "cell_type": "code",
   "execution_count": 187,
   "id": "0e08dc81",
   "metadata": {},
   "outputs": [
    {
     "name": "stdout",
     "output_type": "stream",
     "text": [
      "Area Under Curve: 0.7295758051846033\n"
     ]
    }
   ],
   "source": [
    "from sklearn.metrics import  roc_auc_score \n",
    "y_pred = model2.predict(X_test_split)\n",
    "\n",
    "# Evaluate the predictions\n",
    "print(\"Area Under Curve:\", roc_auc_score(y_pred, y_test_split))\n"
   ]
  },
  {
   "cell_type": "code",
   "execution_count": 188,
   "id": "62c25814",
   "metadata": {},
   "outputs": [],
   "source": [
    "y_submission = model2.predict(data_test_vector)"
   ]
  },
  {
   "cell_type": "code",
   "execution_count": 189,
   "id": "fa86e760",
   "metadata": {},
   "outputs": [],
   "source": [
    "import csv\n",
    "\n",
    "# ouvrir le fichier CSV en écriture\n",
    "with open('test_pred.csv.csv', mode='w', newline='') as file:\n",
    "    # créer un objet writer\n",
    "    writer = csv.writer(file)\n",
    "    \n",
    "    # écrire l'en-tête du fichier CSV\n",
    "    writer.writerow(['ID', 'Predicted'])\n",
    "    \n",
    "    # écrire les données\n",
    "    for i in range(len(data_test)):\n",
    "        writer.writerow([i+1, y_submission[i]])"
   ]
  },
  {
   "cell_type": "markdown",
   "id": "add2908a",
   "metadata": {},
   "source": [
    "## Annexe :\n",
    "\n",
    "Functions to make the dataset balanced. "
   ]
  },
  {
   "cell_type": "code",
   "execution_count": 36,
   "id": "cde8deb3",
   "metadata": {},
   "outputs": [],
   "source": [
    "#@title OverSampling and Undersampling\n",
    "\n",
    "import random\n",
    "from sklearn.utils import shuffle\n",
    "def random_Oversample(X,y):\n",
    "    X0 = X[y_train_split==0]\n",
    "    X1 = X[y_train_split==1] \n",
    "    indices = [random.randint(0,len(X1) -1) for i in range(len(X0))]\n",
    "    X_conc = np.concatenate([X0,X1[indices] ], axis=0)\n",
    "    indices_shuffle = shuffle( list(range(len(X_conc))) )\n",
    "\n",
    "    return X_conc[indices_shuffle], np.array([0]*len(X0)+[1]*len(X0))[indices_shuffle]\n",
    "#print(indices_shuffle)\n",
    "\n",
    "def random_Undersample(X,y):\n",
    "    X0 = X[y_train_split==0]\n",
    "    X1 = X[y_train_split==1] \n",
    "    indices = [random.randint(0,len(X0) -1) for i in range(len(X1))]\n",
    "    X_conc = np.concatenate([X0[indices],X1 ], axis=0)\n",
    "    indices_shuffle = shuffle( list(range(len(X_conc))) )\n",
    "\n",
    "    return X_conc[indices_shuffle], np.array([0]*len(X1)+[1]*len(X1))[indices_shuffle]"
   ]
  }
 ],
 "metadata": {
  "kernelspec": {
   "display_name": "Python 3 (ipykernel)",
   "language": "python",
   "name": "python3"
  },
  "language_info": {
   "codemirror_mode": {
    "name": "ipython",
    "version": 3
   },
   "file_extension": ".py",
   "mimetype": "text/x-python",
   "name": "python",
   "nbconvert_exporter": "python",
   "pygments_lexer": "ipython3",
   "version": "3.9.12"
  }
 },
 "nbformat": 4,
 "nbformat_minor": 5
}
