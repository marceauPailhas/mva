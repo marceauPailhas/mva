{
 "cells": [
  {
   "cell_type": "code",
   "execution_count": 15,
   "id": "fa5f72d0",
   "metadata": {},
   "outputs": [],
   "source": [
    "import pickle \n",
    "import matplotlib.pyplot as plt\n",
    "import numpy as np\n",
    "import numpy.linalg as linalg"
   ]
  },
  {
   "cell_type": "code",
   "execution_count": 29,
   "id": "05b4ed04",
   "metadata": {},
   "outputs": [],
   "source": [
    "file_training_data = open('data-challenge-kernel-methods-2022-2023\\\\training_data.pkl', 'rb')\n",
    "file_training_labels = open('data-challenge-kernel-methods-2022-2023\\\\training_labels.pkl', 'rb')\n",
    "\n",
    "# dump information to that file\n",
    "data = pickle.load(file_training_data)\n",
    "labels = pickle.load(file_training_labels)\n",
    "\n",
    "# close the file\n",
    "file_training_data.close()\n",
    "file_training_labels.close()"
   ]
  },
  {
   "cell_type": "markdown",
   "id": "96c18d7e",
   "metadata": {},
   "source": [
    "# Manipulation de la donnée"
   ]
  },
  {
   "cell_type": "code",
   "execution_count": 17,
   "id": "fa425a84",
   "metadata": {},
   "outputs": [
    {
     "name": "stdout",
     "output_type": "stream",
     "text": [
      "atoms are represented by nodes =  [0, 1, 2, 3, 4, 5, 6, 7, 8, 9, 10, 11, 12, 13, 14, 15, 16, 17, 18, 19, 20, 21, 22, 23, 24, 25, 26]\n",
      "\n",
      "The atom type is =  [2]\n",
      "\n",
      "Bonds between atoms are represented by edges between nodes [(0, 1), (1, 2), (2, 3), (2, 5), (3, 4), (5, 6), (5, 7), (7, 8), (7, 13), (8, 9), (9, 10), (10, 11), (10, 12), (12, 13), (14, 15), (15, 16), (15, 17), (17, 18), (18, 19), (18, 20), (18, 24), (20, 21), (21, 22), (21, 23), (24, 25), (24, 26)]\n",
      "\n",
      "The bond type of bond 0-1 is {'labels': [0]}\n",
      "\n",
      "The molecule 10 is labelled  0\n"
     ]
    }
   ],
   "source": [
    "##this shows how many atoms there are in molecule 10\n",
    "print('atoms are represented by nodes = ', data[10].nodes)\n",
    "\n",
    "##this shows the type of atom 0 of molecule 10\n",
    "print('\\nThe atom type is = ', (data[10].nodes[10])['labels']) \n",
    "\n",
    "##A list of all chemical bonds\n",
    "print('\\nBonds between atoms are represented by edges between nodes', data[10].edges )\n",
    "\n",
    "##The bond type (simple, double or triple bond)\n",
    "print('\\nThe bond type of bond 0-1 is', data[10].edges[0,1] ) #15-16 is of type 1\n",
    "\n",
    "##The label gives the presence or absence of a property in the molecule\n",
    "print ('\\nThe molecule 10 is labelled ', labels[10] ) "
   ]
  },
  {
   "cell_type": "code",
   "execution_count": 18,
   "id": "90d26536",
   "metadata": {},
   "outputs": [
    {
     "name": "stdout",
     "output_type": "stream",
     "text": [
      "The number of 0 in the label list is : 5445\n",
      "The number of 1 in the label list is : 555\n",
      "The total number of molecule is : 6000\n",
      "\n",
      "\n",
      "The dataset is unbalanced. \n"
     ]
    }
   ],
   "source": [
    "print( 'The number of 0 in the label list is :' , np.sum(np.array(labels)==0) )\n",
    "print( 'The number of 1 in the label list is :' ,  np.sum(np.array(labels)==1) )\n",
    "print('The total number of molecule is :', len(labels))\n",
    "print('\\n\\nThe dataset is unbalanced. ')"
   ]
  },
  {
   "cell_type": "markdown",
   "id": "8ffa9cca",
   "metadata": {},
   "source": [
    "# Définition du kernel"
   ]
  },
  {
   "cell_type": "markdown",
   "id": "2eeade51",
   "metadata": {},
   "source": [
    "## Tensor Product (def slide 563)\n",
    "\n",
    "(u,v) un node de G1*G2 ssi u est un node de G1,v un node de G2 et de même label\n",
    "les edges sont ((u,u'),(v,v')) si les deux sont des edges de G1*G2 et si (u,v) et (u',v') sont des edges de respectivement G1 et G2"
   ]
  },
  {
   "cell_type": "code",
   "execution_count": 19,
   "id": "be06bb1d",
   "metadata": {},
   "outputs": [],
   "source": [
    "\"\"\"\n",
    "Graph products.\n",
    "\"\"\"\n",
    "from itertools import product\n",
    "\n",
    "import networkx as nx\n",
    "from networkx.utils import not_implemented_for\n",
    "\n",
    "\n",
    "\n",
    "def _dict_product(d1, d2):\n",
    "    return {k: (d1.get(k), d2.get(k)) for k in set(d1) | set(d2)}\n",
    "\n",
    "\n",
    "# Generators for producing graph products\n",
    "def _node_product(G, H):\n",
    "    for u, v in product(G, H):\n",
    "        if (G.nodes[u])['labels'][0] != (H.nodes[v])['labels'][0]: #makes sure that only nodes with the same label get paired\n",
    "            continue\n",
    "        yield ((u, v), _dict_product(G.nodes[u], H.nodes[v]) )\n",
    "\n",
    "\n",
    "def _directed_edges_cross_edges(G, H):\n",
    "    if not G.is_multigraph() and not H.is_multigraph():\n",
    "        #print(G.edges(data=True), H.edges(data=True))\n",
    "        for u, v, c in G.edges(data=True):\n",
    "            for x, y, d in H.edges(data=True):\n",
    "                #print((u, x), (v, y), )\n",
    "                if (G.nodes[u])['labels'][0] == (H.nodes[x])['labels'][0] and (G.nodes[v])['labels'][0] == (H.nodes[y])['labels'][0]:  \n",
    "                    yield (u, x), (v, y), _dict_product(c, d)\n",
    "                #the edge is (u,v) but it can also be described as (v,u)\n",
    "                if (G.nodes[u])['labels'][0] == (H.nodes[y])['labels'][0] and (G.nodes[v])['labels'][0] == (H.nodes[x])['labels'][0]:\n",
    "                    yield (u, y), (v, x), _dict_product(c, d)\n",
    "                \n",
    "    else:\n",
    "        raise NotImplemented\n",
    "\n",
    "\n",
    "def _undirected_edges_cross_edges(G, H):\n",
    "    if not G.is_multigraph() and not H.is_multigraph():\n",
    "        for u, v, c in G.edges(data=True):\n",
    "            for x, y, d in H.edges(data=True):\n",
    "                yield (v, x), (u, y), _dict_product(c, d)\n",
    "    if not G.is_multigraph() and H.is_multigraph():\n",
    "        for u, v, c in G.edges(data=True):\n",
    "            for x, y, k, d in H.edges(data=True, keys=True):\n",
    "                yield (v, x), (u, y), k, _dict_product(c, d)\n",
    "    if G.is_multigraph() and not H.is_multigraph():\n",
    "        for u, v, k, c in G.edges(data=True, keys=True):\n",
    "            for x, y, d in H.edges(data=True):\n",
    "                yield (v, x), (u, y), k, _dict_product(c, d)\n",
    "    if G.is_multigraph() and H.is_multigraph():\n",
    "        for u, v, j, c in G.edges(data=True, keys=True):\n",
    "            for x, y, k, d in H.edges(data=True, keys=True):\n",
    "                yield (v, x), (u, y), (j, k), _dict_product(c, d)\n",
    "\n",
    "\n",
    "def _edges_cross_nodes(G, H):\n",
    "    if G.is_multigraph():\n",
    "        for u, v, k, d in G.edges(data=True, keys=True):\n",
    "            for x in H:\n",
    "                yield (u, x), (v, x), k, d\n",
    "    else:\n",
    "        for u, v, d in G.edges(data=True):\n",
    "            for x in H:\n",
    "                if H.is_multigraph():\n",
    "                    yield (u, x), (v, x), None, d\n",
    "                else:\n",
    "                    yield (u, x), (v, x), d\n",
    "\n",
    "\n",
    "def _nodes_cross_edges(G, H):\n",
    "    if H.is_multigraph():\n",
    "        for x in G:\n",
    "            for u, v, k, d in H.edges(data=True, keys=True):\n",
    "                yield (x, u), (x, v), k, d\n",
    "    else:\n",
    "        for x in G:\n",
    "            for u, v, d in H.edges(data=True):\n",
    "                if G.is_multigraph():\n",
    "                    yield (x, u), (x, v), None, d\n",
    "                else:\n",
    "                    yield (x, u), (x, v), d\n",
    "\n",
    "\n",
    "def _edges_cross_nodes_and_nodes(G, H):\n",
    "    if G.is_multigraph():\n",
    "        for u, v, k, d in G.edges(data=True, keys=True):\n",
    "            for x in H:\n",
    "                for y in H:\n",
    "                    yield (u, x), (v, y), k, d\n",
    "    else:\n",
    "        for u, v, d in G.edges(data=True):\n",
    "            for x in H:\n",
    "                for y in H:\n",
    "                    if H.is_multigraph():\n",
    "                        yield (u, x), (v, y), None, d\n",
    "                    else:\n",
    "                        yield (u, x), (v, y), d\n",
    "\n",
    "\n",
    "def _init_product_graph(G, H):\n",
    "    if G.is_directed() != H.is_directed():\n",
    "        msg = \"G and H must be both directed or both undirected\"\n",
    "        raise nx.NetworkXError(msg)\n",
    "    if G.is_multigraph() or H.is_multigraph():\n",
    "        GH = nx.MultiGraph()\n",
    "    else:\n",
    "        GH = nx.Graph()\n",
    "    if G.is_directed():\n",
    "        GH = GH.to_directed()\n",
    "    return GH\n",
    "\n",
    "\n",
    "def tensor_product(G, H):\n",
    "    r\"\"\"Returns the tensor product of G and H.\n",
    "\n",
    "    The tensor product $P$ of the graphs $G$ and $H$ has a node set that\n",
    "    is the tensor product of the node sets, $V(P)=V(G) \\times V(H)$.\n",
    "    $P$ has an edge $((u,v), (x,y))$ if and only if $(u,x)$ is an edge in $G$\n",
    "    and $(v,y)$ is an edge in $H$.\n",
    "\n",
    "    Tensor product is sometimes also referred to as the categorical product,\n",
    "    direct product, cardinal product or conjunction.\n",
    "\n",
    "\n",
    "    Parameters\n",
    "    ----------\n",
    "    G, H: graphs\n",
    "     Networkx graphs.\n",
    "\n",
    "    Returns\n",
    "    -------\n",
    "    P: NetworkX graph\n",
    "     The tensor product of G and H. P will be a multi-graph if either G\n",
    "     or H is a multi-graph, will be a directed if G and H are directed,\n",
    "     and undirected if G and H are undirected.\n",
    "\n",
    "    Raises\n",
    "    ------\n",
    "    NetworkXError\n",
    "     If G and H are not both directed or both undirected.\n",
    "\n",
    "    Notes\n",
    "    -----\n",
    "    Node attributes in P are two-tuple of the G and H node attributes.\n",
    "    Missing attributes are assigned None.\n",
    "\n",
    "    Examples\n",
    "    --------\n",
    "    >>> G = nx.Graph()\n",
    "    >>> H = nx.Graph()\n",
    "    >>> G.add_node(0, a1=True)\n",
    "    >>> H.add_node(\"a\", a2=\"Spam\")\n",
    "    >>> P = nx.tensor_product(G, H)\n",
    "    >>> list(P)\n",
    "    [(0, 'a')]\n",
    "\n",
    "    Edge attributes and edge keys (for multigraphs) are also copied to the\n",
    "    new product graph\n",
    "    \"\"\"\n",
    "    GH = _init_product_graph(G, H)\n",
    "    GH.add_nodes_from(_node_product(G, H))\n",
    "    GH.add_edges_from(_directed_edges_cross_edges(G, H))\n",
    "    \n",
    "    return GH\n",
    "\n",
    "\n",
    "\n"
   ]
  },
  {
   "cell_type": "markdown",
   "id": "523a8b8b",
   "metadata": {},
   "source": [
    "## N-th order kernel"
   ]
  },
  {
   "cell_type": "code",
   "execution_count": 20,
   "id": "1b86ef9e",
   "metadata": {},
   "outputs": [],
   "source": [
    "def n_th_order_kernel(G1,G2,n=3):\n",
    "    G1G2 = tensor_product(G1, G2)\n",
    "    adjency_matrix = nx.to_numpy_array(G1G2)\n",
    "    adj_mat_n = linalg.matrix_power(adjency_matrix, n)\n",
    "    return np.sum(adj_mat_n)"
   ]
  },
  {
   "cell_type": "markdown",
   "id": "afc1ff7f",
   "metadata": {},
   "source": [
    "On applique les différentes techniques de machine learning dorénavant. "
   ]
  },
  {
   "cell_type": "markdown",
   "id": "b9f6c80c",
   "metadata": {},
   "source": [
    "## SVM"
   ]
  },
  {
   "cell_type": "code",
   "execution_count": 21,
   "id": "d66f0cff",
   "metadata": {},
   "outputs": [],
   "source": [
    "##On réutilise ici une implémentation du SVM du devoir 2.\n",
    "from svm import KernelSVC"
   ]
  },
  {
   "cell_type": "code",
   "execution_count": 22,
   "id": "4ec0c407",
   "metadata": {},
   "outputs": [],
   "source": [
    "from time import time "
   ]
  },
  {
   "cell_type": "code",
   "execution_count": 23,
   "id": "d1645555",
   "metadata": {},
   "outputs": [],
   "source": [
    "def kernel_n_order(X,Y,same = True):\n",
    "    return np.array([[n_th_order_kernel(G1,G2) for G1 in Y] for G2 in X])"
   ]
  },
  {
   "cell_type": "code",
   "execution_count": 24,
   "id": "d58f8f9a",
   "metadata": {},
   "outputs": [
    {
     "name": "stdout",
     "output_type": "stream",
     "text": [
      "0.0 s\n"
     ]
    }
   ],
   "source": [
    "tic =time()\n",
    "#np.array(list(map(lambda G2: list(map(lambda G1: n_th_order_kernel(G1, G2), data[:30])), data[:30])))\n",
    "print(time()-tic, 's')\n",
    "#20 en 5.8s\n",
    "#30 en 14 s"
   ]
  },
  {
   "cell_type": "code",
   "execution_count": 25,
   "id": "780614b7",
   "metadata": {},
   "outputs": [
    {
     "name": "stdout",
     "output_type": "stream",
     "text": [
      "0.0 s\n"
     ]
    }
   ],
   "source": [
    "tic =time()\n",
    "#kernel_n_order(X,Y,same = True):\n",
    "print(time()-tic, 's')\n",
    "#20 en 6s\n",
    "#30 en 14s"
   ]
  },
  {
   "cell_type": "code",
   "execution_count": null,
   "id": "9ff9fd51",
   "metadata": {},
   "outputs": [],
   "source": [
    "C=100.\n",
    "kernel = kernel_n_order\n",
    "model = KernelSVC(C=C, kernel=kernel)\n",
    "\n",
    "\n",
    "model.fit(data[30:], labels[30:])"
   ]
  },
  {
   "cell_type": "code",
   "execution_count": null,
   "id": "3d8e3e12",
   "metadata": {},
   "outputs": [],
   "source": [
    "import pickle\n",
    "\n",
    "# Ouvrir un fichier en mode écriture binaire\n",
    "with open('model_10_04.pkl', 'wb') as fichier:\n",
    "    # Écrire l'objet dans le fichier\n",
    "    pickle.dump(model, fichier)"
   ]
  },
  {
   "cell_type": "code",
   "execution_count": null,
   "id": "e377c477",
   "metadata": {},
   "outputs": [],
   "source": []
  }
 ],
 "metadata": {
  "kernelspec": {
   "display_name": "Python 3 (ipykernel)",
   "language": "python",
   "name": "python3"
  },
  "language_info": {
   "codemirror_mode": {
    "name": "ipython",
    "version": 3
   },
   "file_extension": ".py",
   "mimetype": "text/x-python",
   "name": "python",
   "nbconvert_exporter": "python",
   "pygments_lexer": "ipython3",
   "version": "3.9.12"
  }
 },
 "nbformat": 4,
 "nbformat_minor": 5
}
