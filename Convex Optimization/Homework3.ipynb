{
 "cells": [
  {
   "cell_type": "markdown",
   "id": "ac6cb681",
   "metadata": {},
   "source": [
    "# Homework 3 : Convex Optimization "
   ]
  },
  {
   "cell_type": "markdown",
   "id": "bd972ae0",
   "metadata": {},
   "source": [
    "**First Name :** Marceau <br>\n",
    "**Last Name :** Pailhas"
   ]
  },
  {
   "cell_type": "markdown",
   "id": "f300f901",
   "metadata": {},
   "source": [
    "## Q1"
   ]
  },
  {
   "cell_type": "markdown",
   "id": "979f5a92",
   "metadata": {},
   "source": [
    "See attached pdf"
   ]
  },
  {
   "cell_type": "markdown",
   "id": "90cea415",
   "metadata": {},
   "source": [
    "## Q2 "
   ]
  },
  {
   "cell_type": "code",
   "execution_count": 20,
   "id": "1d40cb9c",
   "metadata": {},
   "outputs": [],
   "source": [
    "###IMPORTING###\n",
    "import numpy as np\n",
    "import matplotlib.pyplot as plt "
   ]
  },
  {
   "cell_type": "code",
   "execution_count": 21,
   "id": "f9239a39",
   "metadata": {},
   "outputs": [],
   "source": [
    "def F(v,t,Q,A,b,p):\n",
    "    phi = -np.sum( np.log(-A@v +b) )\n",
    "    return t*(np.array(v).T@Q@v + p.T @ v ) +phi"
   ]
  },
  {
   "cell_type": "code",
   "execution_count": 22,
   "id": "3984b863",
   "metadata": {},
   "outputs": [],
   "source": [
    "def  centering_step(Q,p,A,b,t,v0,eps):\n",
    "    \n",
    "    v_var = v0\n",
    "    m = b.shape[0]\n",
    "    assertion = True\n",
    "    V=[list(v_var)]\n",
    "    \n",
    "    while(assertion):\n",
    "        #computes the hessian of  x --> t f0(x) + phi(x)\n",
    "        f = (A @ v_var) - b\n",
    "        hessian_phi = np.zeros((n,n))\n",
    "        grad_phi = np.zeros(n)\n",
    "        \n",
    "        for i in range(m):\n",
    "            f_i = f[i]\n",
    "            grad_f_i = A.T [:,i] #select ith column of the matrix tA\n",
    "            \n",
    "            grad_phi += (-1/f_i)*grad_f_i\n",
    "            hessian_phi += np.outer(grad_f_i,grad_f_i)*(1/f_i**2)\n",
    "\n",
    "        gradient = t*(Q + Q.T)@ v_var + t*p + grad_phi\n",
    "        hessian = t*(Q + Q.T) + hessian_phi\n",
    "        \n",
    "        inv_hessian = np.linalg.inv(hessian)\n",
    "        Delta_v = -inv_hessian @  gradient\n",
    "        \n",
    "        lamda2 = np.dot(-Delta_v, gradient )\n",
    "        assertion = (lamda2/2) > eps\n",
    "        \n",
    "        \n",
    "        \n",
    "        s=1\n",
    "        beta = 1/4\n",
    "        alpha =1/8\n",
    "        assertion2 = True\n",
    "        \n",
    "        while assertion2:\n",
    "            \n",
    "            if np.sum( A@(v_var+s*Delta_v) < b ) == b.shape[0]:\n",
    "                assertion2 = (F(v_var+s*Delta_v,t,Q,A,b,p) >=  F(v_var,t,Q,A,b,p)  + alpha*s*gradient.T@Delta_v)\n",
    "            s = beta*s\n",
    "            #print(\"s=\",s)\n",
    "        v_var = v_var + s*Delta_v #here the step has to follow the backtracking condition\n",
    "        \n",
    "        V.append(list(np.copy(v_var))) #we append vi to create the sequence (vj) with j =1,...,n_eps  \n",
    "    #print(\"length of the v list = \",len(V))    \n",
    "    return V"
   ]
  },
  {
   "cell_type": "code",
   "execution_count": 23,
   "id": "7d725b34",
   "metadata": {},
   "outputs": [],
   "source": [
    "def barr_method(Q,p,A,b,v0,eps,mu):\n",
    "    assertion = True\n",
    "    m = b.shape[0]\n",
    "    v = v0\n",
    "    \n",
    "    #parameters that must be tweaked by the user\n",
    "    t=0.5\n",
    "    \n",
    "    V = [list(v)]\n",
    "    i=0\n",
    "    \n",
    "    while(assertion):\n",
    "        i+=1\n",
    "        \n",
    "         #centering step\n",
    "        V.append(list(centering_step(Q,p,A,b,t,v,eps))) #we keep w_t\n",
    "        \n",
    "        v = V [-1][-1]\n",
    "        #print(\"v =\",v)\n",
    "        t = mu*t\n",
    "        assertion =  m/t > eps\n",
    "        #print(\"number iteration\", i) \n",
    "        \n",
    "    return V"
   ]
  },
  {
   "cell_type": "markdown",
   "id": "c5cd0b78",
   "metadata": {},
   "source": [
    "## Q3 "
   ]
  },
  {
   "cell_type": "markdown",
   "id": "e720611c",
   "metadata": {},
   "source": [
    "### CODE TEST"
   ]
  },
  {
   "cell_type": "code",
   "execution_count": 24,
   "id": "82371b7f",
   "metadata": {},
   "outputs": [],
   "source": [
    "####PARAMETERS###\n",
    "lambdaa = 10\n",
    "n = 10\n",
    "d = 20"
   ]
  },
  {
   "cell_type": "code",
   "execution_count": 25,
   "id": "aa524ea4",
   "metadata": {},
   "outputs": [],
   "source": [
    "##Generating random inputs\n",
    "X=np.random.normal(0,1,(n,d))\n",
    "x=np.random.normal(0,0.1,d)\n",
    "y = X @x + 0.5*np.random.normal(0,1,n)"
   ]
  },
  {
   "cell_type": "code",
   "execution_count": 26,
   "id": "ed7e5b4d",
   "metadata": {},
   "outputs": [],
   "source": [
    "Q = (1/2)* np.eye(n)\n",
    "p = -y\n",
    "A = np.concatenate((X.T,-X.T), axis = 0)\n",
    "b = lambdaa*np.array([1]*2*d)"
   ]
  },
  {
   "cell_type": "code",
   "execution_count": 27,
   "id": "b43d3693",
   "metadata": {},
   "outputs": [],
   "source": [
    "V = barr_method(Q,p,A,b,np.array([0]*10),1e-2,15)"
   ]
  },
  {
   "cell_type": "code",
   "execution_count": 28,
   "id": "ae71bcf5",
   "metadata": {},
   "outputs": [
    {
     "data": {
      "text/plain": [
       "array([ 0.65779466, -1.04491366, -1.4232036 ,  0.71251739,  0.62721139,\n",
       "       -0.64371096, -0.60420098, -0.94449004,  0.76209796,  0.24155877])"
      ]
     },
     "execution_count": 28,
     "metadata": {},
     "output_type": "execute_result"
    }
   ],
   "source": [
    "## We print y just to see if the code does what we want, at least we can check the vector size and the components magnitude\n",
    "y"
   ]
  },
  {
   "cell_type": "code",
   "execution_count": 29,
   "id": "10f58f01",
   "metadata": {},
   "outputs": [],
   "source": [
    "def Display_prep(V):\n",
    "    \"This function takes all the vectors v obtained at each step of the newton's algorithm. It returns the list of computed values of v.T@Q@v + p.T@v for each iteration of the barier algorithm. \"\n",
    "    U = []\n",
    "    for i in range(len(V)):\n",
    "    \n",
    "        if type(V[i][-1])!=list :\n",
    "            U.append(list(V[i])) \n",
    "        \n",
    "        else:\n",
    "        #print(list(V[i][-1])*len(V[i]))\n",
    "            U = U +[list(V[i][-1])]*len(V[i])\n",
    "    \n",
    "    newU = list(map(lambda v: np.array(v).T@Q@np.array(v)+ p.T@np.array(v), U ))\n",
    "    min_nU = min(newU)\n",
    "    newU = list(map(lambda u : u - min_nU, newU))\n",
    "    \n",
    "    return newU"
   ]
  },
  {
   "cell_type": "code",
   "execution_count": 30,
   "id": "c3726626",
   "metadata": {},
   "outputs": [],
   "source": [
    "#Checking if it works properly\n",
    "newU = Display_prep(V)"
   ]
  },
  {
   "cell_type": "code",
   "execution_count": 31,
   "id": "c19f63c7",
   "metadata": {},
   "outputs": [
    {
     "data": {
      "text/plain": [
       "[<matplotlib.lines.Line2D at 0x27f6ffdd5b0>]"
      ]
     },
     "execution_count": 31,
     "metadata": {},
     "output_type": "execute_result"
    },
    {
     "data": {
      "image/png": "[encoded data removed]",
      "text/plain": [
       "<Figure size 432x288 with 1 Axes>"
      ]
     },
     "metadata": {
      "needs_background": "light"
     },
     "output_type": "display_data"
    }
   ],
   "source": [
    "plt.yscale(\"log\")\n",
    "plt.plot(range(len(newU)),newU,drawstyle= \"steps-pre\" )"
   ]
  },
  {
   "cell_type": "markdown",
   "id": "d210df14",
   "metadata": {},
   "source": [
    "We see a steps-like curve. The algorithm converges quite fast."
   ]
  },
  {
   "cell_type": "markdown",
   "id": "cd55cb0b",
   "metadata": {},
   "source": [
    "We will display all curvees for $\\mu = 2, 15, 50 , 100 $"
   ]
  },
  {
   "cell_type": "code",
   "execution_count": 32,
   "id": "0ec22690",
   "metadata": {},
   "outputs": [],
   "source": [
    "# mu = 2\n",
    "V2 = barr_method(Q,p,A,b,np.array([0]*10),1e-2,2)\n",
    "U2 = Display_prep(V2)\n",
    "\n",
    "# mu = 15\n",
    "V15 = barr_method(Q,p,A,b,np.array([0]*10),1e-2,15)\n",
    "U15 = Display_prep(V15)\n",
    "\n",
    "# mu = 50\n",
    "V50 = barr_method(Q,p,A,b,np.array([0]*10),1e-2,50)\n",
    "U50 = Display_prep(V50)\n",
    "\n",
    "# mu = 100\n",
    "V100 = barr_method(Q,p,A,b,np.array([0]*10),1e-2,100)\n",
    "U100 = Display_prep(V100)"
   ]
  },
  {
   "cell_type": "code",
   "execution_count": 33,
   "id": "b6bee03a",
   "metadata": {},
   "outputs": [],
   "source": [
    "def completion(U2,U15,U50,U100):\n",
    "    \"This algo completes the list with 0 such that they are all the same length.\"\n",
    "    len_max = max(len(U2),len(U15),len(U50),len(U100))\n",
    "    \n",
    "    U2 = U2 + [0]*(len_max - len(U2))\n",
    "    U15 = U15 + [0]*(len_max - len(U15))\n",
    "    U50 = U50 + [0]*(len_max - len(U50))\n",
    "    U100 = U100 + [0]*(len_max - len(U100))\n",
    "    \n",
    "    return U2,U15,U50,U100"
   ]
  },
  {
   "cell_type": "code",
   "execution_count": 34,
   "id": "17086a11",
   "metadata": {},
   "outputs": [
    {
     "data": {
      "image/png": "[encoded data removed]",
      "text/plain": [
       "<Figure size 864x360 with 1 Axes>"
      ]
     },
     "metadata": {
      "needs_background": "light"
     },
     "output_type": "display_data"
    }
   ],
   "source": [
    "U2,U15,U50,U100 = completion(U2,U15,U50,U100)\n",
    "\n",
    "fig = plt.figure(1, figsize=(12, 5))\n",
    "plt.yscale(\"log\")\n",
    "plt.plot(range(len(U2)), U2, drawstyle= \"steps-pre\" , color ='r', label = 'mu = 2')\n",
    "plt.plot(range(len(U2)), U15, drawstyle= \"steps-pre\" , color= 'b', label = 'mu = 15')\n",
    "plt.plot(range(len(U2)), U50, drawstyle= \"steps-pre\" ,color='g', label = 'mu = 50')\n",
    "plt.plot(range(len(U2)), U100, drawstyle= \"steps-pre\",color='y'  , label = 'mu = 100')\n",
    "plt.legend()\n",
    "\n",
    "plt.title('f(vl)- f* w.r.t the number of iterations')\n",
    "plt.show()"
   ]
  },
  {
   "cell_type": "markdown",
   "id": "d417c70b",
   "metadata": {},
   "source": [
    "The best $\\mu$ to choose is 100, it converges the fastest. "
   ]
  },
  {
   "cell_type": "markdown",
   "id": "6f24aeab",
   "metadata": {},
   "source": [
    "### Evaluating w from the different values of v* obtained  "
   ]
  },
  {
   "cell_type": "markdown",
   "id": "f8599429",
   "metadata": {},
   "source": [
    "We will now check what w is for different value of $\\mu$. We have that $X w = y + v^*$ with Slater's conditions. We will use the pseudo inverse to recover w."
   ]
  },
  {
   "cell_type": "code",
   "execution_count": 35,
   "id": "931aab1b",
   "metadata": {},
   "outputs": [],
   "source": [
    "p_inv_X = np.linalg.pinv(X)\n",
    "\n",
    "#for mu =2\n",
    "\n",
    "v2_star = np.array(V2[-1][-1])\n",
    "w2 = p_inv_X@(y+v2_star)\n",
    "\n",
    "#for mu =15\n",
    "v15_star = np.array(V15[-1][-1])\n",
    "w15 = p_inv_X@(y+v15_star)\n",
    "\n",
    "#for mu =50\n",
    "v50_star = np.array(V50[-1][-1])\n",
    "w50 = p_inv_X@(y+v50_star)\n",
    "\n",
    "#for mu =100\n",
    "v100_star = np.array(V100[-1][-1])\n",
    "w100 = p_inv_X@(y+v100_star)"
   ]
  },
  {
   "cell_type": "markdown",
   "id": "28cd5d8a",
   "metadata": {},
   "source": [
    "We will check the distance between the w thus obained."
   ]
  },
  {
   "cell_type": "code",
   "execution_count": 36,
   "id": "5bb15152",
   "metadata": {},
   "outputs": [
    {
     "name": "stdout",
     "output_type": "stream",
     "text": [
      "w2= [ 0.42102317 -0.34268727 -0.19591755 -0.20768758  0.31443717 -0.38173282\n",
      "  0.11548427  0.10268196  0.32936609  0.30433764 -0.08688182  0.21518907\n",
      " -0.3388803  -0.30882102  0.36267478 -0.63362663  0.23688951  0.68616352\n",
      " -0.0013462   0.53820162]\n",
      "\n",
      " \n",
      " w15= [ 0.42101471 -0.34268112 -0.19591274 -0.20768304  0.31443307 -0.38172654\n",
      "  0.1154784   0.10268165  0.32936342  0.30433128 -0.08687756  0.21518363\n",
      " -0.33887553 -0.30881923  0.36267073 -0.63361831  0.23688611  0.68615965\n",
      " -0.00134262  0.53819637]\n",
      "\n",
      " \n",
      " w50= [ 0.4209852  -0.34263732 -0.19588395 -0.20767729  0.31440824 -0.38169302\n",
      "  0.11544957  0.10268225  0.32929238  0.30429153 -0.08684358  0.21513666\n",
      " -0.33884071 -0.30880689  0.36267254 -0.63358155  0.23688799  0.68615149\n",
      " -0.00133075  0.53817204]\n",
      "\n",
      " \n",
      " w100= [ 4.19313052e-01 -3.39905127e-01 -1.94126651e-01 -2.07505073e-01\n",
      "  3.12896616e-01 -3.79664086e-01  1.13695462e-01  1.02757511e-01\n",
      "  3.24596480e-01  3.01831445e-01 -8.46640881e-02  2.12129245e-01\n",
      " -3.36682643e-01 -3.08113936e-01  3.63031709e-01 -6.31493392e-01\n",
      "  2.37206342e-01  6.85914472e-01 -6.07635549e-04  5.36827380e-01]\n"
     ]
    }
   ],
   "source": [
    "print(\"w2=\",w2)\n",
    "print(\"\\n \\n w15=\",w15)\n",
    "print(\"\\n \\n w50=\",w50)\n",
    "print(\"\\n \\n w100=\",w100)"
   ]
  },
  {
   "cell_type": "code",
   "execution_count": 37,
   "id": "1713c0f3",
   "metadata": {},
   "outputs": [
    {
     "name": "stdout",
     "output_type": "stream",
     "text": [
      "The L2 distance between w2* and w15* is :  2.2752165564050806e-05 \n",
      " \n",
      " The L2 distance between w15* and w50* : 0.00014046701093053019 \n",
      " \n",
      " The L2 distance between w50* and w100* : 0.008767928001632353 \n",
      " \n",
      " The L2 distance between w100* and w2* : 0.00892631806021657\n"
     ]
    }
   ],
   "source": [
    "print(\"The L2 distance between w2* and w15* is : \",np.linalg.norm(w2-w15), \"\\n \\n The L2 distance between w15* and w50* :\" ,np.linalg.norm(w15-w50),\"\\n \\n The L2 distance between w50* and w100* :\" , np.linalg.norm(w100-w50) , \"\\n \\n The L2 distance between w100* and w2* :\" , np.linalg.norm(w100-w2) ) "
   ]
  },
  {
   "cell_type": "markdown",
   "id": "207a7e18",
   "metadata": {},
   "source": [
    "We see that we loose in precision as we increase $\\mu$."
   ]
  },
  {
   "cell_type": "code",
   "execution_count": 38,
   "id": "ff6e4ee3",
   "metadata": {},
   "outputs": [
    {
     "name": "stderr",
     "output_type": "stream",
     "text": [
      "[NbConvertApp] Converting notebook Homework3.ipynb to html\n",
      "[NbConvertApp] Writing 650991 bytes to Homework3.html\n"
     ]
    }
   ],
   "source": [
    "#saving in html format \n",
    "! jupyter nbconvert --to html Homework3.ipynb"
   ]
  }
 ],
 "metadata": {
  "kernelspec": {
   "display_name": "Python 3 (ipykernel)",
   "language": "python",
   "name": "python3"
  },
  "language_info": {
   "codemirror_mode": {
    "name": "ipython",
    "version": 3
   },
   "file_extension": ".py",
   "mimetype": "text/x-python",
   "name": "python",
   "nbconvert_exporter": "python",
   "pygments_lexer": "ipython3",
   "version": "3.9.12"
  }
 },
 "nbformat": 4,
 "nbformat_minor": 5
}
