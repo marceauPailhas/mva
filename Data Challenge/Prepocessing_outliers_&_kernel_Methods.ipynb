{
 "cells": [
  {
   "cell_type": "code",
   "execution_count": 1,
   "id": "29824d6c",
   "metadata": {},
   "outputs": [],
   "source": [
    "import numpy as np\n",
    "import pandas as pd\n",
    "from scipy.stats import spearmanr\n",
    "from sklearn.linear_model import LinearRegression\n",
    "import matplotlib.pyplot as plt"
   ]
  },
  {
   "cell_type": "markdown",
   "id": "4a8a9dfd",
   "metadata": {},
   "source": [
    "## Chargement des données\n",
    "\n",
    "- `X_train` et `X_test` ont  $35$ colonnes qui représentent les même variables explicatives mais sur des périodes de temps différentes. \n",
    "\n",
    "- `X_train` et `Y_train` partagent la même colonne `ID` - chaque ligne a un ID unique associé à un jour et à un pays. \n",
    "\n",
    "- La variable cible `TARGET` de `Y_train` correspond à la variation de prix journalière des futures sur l'électricité (maturité 24h).\n",
    "\n",
    "- **On notera que certaines colonnes ont des valeurs manquantes**."
   ]
  },
  {
   "cell_type": "code",
   "execution_count": 6,
   "id": "659e473f",
   "metadata": {},
   "outputs": [],
   "source": [
    "# After downloading the X_train/X_test/Y_train .csv files in your working directory:\n",
    "\n",
    "X_train = pd.read_csv('X_train.csv')\n",
    "Y_train = pd.read_csv('Y_train.csv')\n",
    "X_test = pd.read_csv('X_test.csv')"
   ]
  },
  {
   "cell_type": "code",
   "execution_count": 10,
   "id": "e5aa4b89",
   "metadata": {},
   "outputs": [],
   "source": [
    "# Code pour réaliser un one hot encoder : permet d'améliorer la performance ici\n",
    "X_train = pd.get_dummies(X_train, columns=[\"COUNTRY\"])\n",
    "X_test = pd.get_dummies(X_test, columns=[\"COUNTRY\"])"
   ]
  },
  {
   "cell_type": "code",
   "execution_count": 16,
   "id": "2e4f5ee0",
   "metadata": {},
   "outputs": [],
   "source": [
    "#on complète avec des 0, puis on on drop l'id\n",
    "X_train_ssID = X_train.drop(['ID', 'DAY_ID'], axis=1).fillna(0)\n",
    "Y_train_ssID = Y_train.drop(['ID'], axis=1).fillna(0)"
   ]
  },
  {
   "cell_type": "code",
   "execution_count": 36,
   "id": "0aaa4f55",
   "metadata": {},
   "outputs": [],
   "source": [
    "##créons un dataframe qui contiennent variables et target\n",
    "X_Y_train = pd.merge(X_train, Y_train, on=['ID'])\n",
    "X_Y_train_ssID = X_Y_train.drop(['ID', 'DAY_ID'], axis=1).fillna(0)"
   ]
  },
  {
   "cell_type": "markdown",
   "id": "73f0bf7c",
   "metadata": {},
   "source": [
    "## Imports des modèles pour enlever les outliers\n",
    "\n",
    "On va enlever les outliers avec ECOD, ABOD, CBLOF"
   ]
  },
  {
   "cell_type": "code",
   "execution_count": 3,
   "id": "fecc60e2",
   "metadata": {},
   "outputs": [],
   "source": [
    "import pyod"
   ]
  },
  {
   "cell_type": "code",
   "execution_count": 5,
   "id": "2c62284e",
   "metadata": {},
   "outputs": [],
   "source": [
    "from pyod.models.ecod import ECOD\n",
    "from pyod.models.abod import ABOD\n",
    "from pyod.models.cblof import CBLOF"
   ]
  },
  {
   "cell_type": "code",
   "execution_count": 7,
   "id": "2c437d81",
   "metadata": {},
   "outputs": [],
   "source": [
    "#outliers_fraction\n",
    "outliers_fraction = 0.05"
   ]
  },
  {
   "cell_type": "code",
   "execution_count": 38,
   "id": "b4fcef1c",
   "metadata": {},
   "outputs": [
    {
     "data": {
      "text/html": [
       "<div>\n",
       "<style scoped>\n",
       "    .dataframe tbody tr th:only-of-type {\n",
       "        vertical-align: middle;\n",
       "    }\n",
       "\n",
       "    .dataframe tbody tr th {\n",
       "        vertical-align: top;\n",
       "    }\n",
       "\n",
       "    .dataframe thead th {\n",
       "        text-align: right;\n",
       "    }\n",
       "</style>\n",
       "<table border=\"1\" class=\"dataframe\">\n",
       "  <thead>\n",
       "    <tr style=\"text-align: right;\">\n",
       "      <th></th>\n",
       "      <th>DE_CONSUMPTION</th>\n",
       "      <th>FR_CONSUMPTION</th>\n",
       "      <th>DE_FR_EXCHANGE</th>\n",
       "      <th>FR_DE_EXCHANGE</th>\n",
       "      <th>DE_NET_EXPORT</th>\n",
       "      <th>FR_NET_EXPORT</th>\n",
       "      <th>DE_NET_IMPORT</th>\n",
       "      <th>FR_NET_IMPORT</th>\n",
       "      <th>DE_GAS</th>\n",
       "      <th>FR_GAS</th>\n",
       "      <th>...</th>\n",
       "      <th>FR_RAIN</th>\n",
       "      <th>DE_WIND</th>\n",
       "      <th>FR_WIND</th>\n",
       "      <th>DE_TEMP</th>\n",
       "      <th>FR_TEMP</th>\n",
       "      <th>GAS_RET</th>\n",
       "      <th>COAL_RET</th>\n",
       "      <th>CARBON_RET</th>\n",
       "      <th>COUNTRY_DE</th>\n",
       "      <th>COUNTRY_FR</th>\n",
       "    </tr>\n",
       "  </thead>\n",
       "  <tbody>\n",
       "    <tr>\n",
       "      <th>0</th>\n",
       "      <td>0.210099</td>\n",
       "      <td>-0.427458</td>\n",
       "      <td>-0.606523</td>\n",
       "      <td>0.606523</td>\n",
       "      <td>0.000000</td>\n",
       "      <td>0.692860</td>\n",
       "      <td>0.000000</td>\n",
       "      <td>-0.692860</td>\n",
       "      <td>0.441238</td>\n",
       "      <td>-0.213766</td>\n",
       "      <td>...</td>\n",
       "      <td>-0.556356</td>\n",
       "      <td>-0.790823</td>\n",
       "      <td>-0.283160</td>\n",
       "      <td>-1.069070</td>\n",
       "      <td>-0.063404</td>\n",
       "      <td>0.339041</td>\n",
       "      <td>0.124552</td>\n",
       "      <td>-0.002445</td>\n",
       "      <td>0</td>\n",
       "      <td>1</td>\n",
       "    </tr>\n",
       "    <tr>\n",
       "      <th>1</th>\n",
       "      <td>-0.022399</td>\n",
       "      <td>-1.003452</td>\n",
       "      <td>-0.022063</td>\n",
       "      <td>0.022063</td>\n",
       "      <td>-0.573520</td>\n",
       "      <td>-1.130838</td>\n",
       "      <td>0.573520</td>\n",
       "      <td>1.130838</td>\n",
       "      <td>0.174773</td>\n",
       "      <td>0.426940</td>\n",
       "      <td>...</td>\n",
       "      <td>-0.770457</td>\n",
       "      <td>1.522331</td>\n",
       "      <td>0.828412</td>\n",
       "      <td>0.437419</td>\n",
       "      <td>1.831241</td>\n",
       "      <td>-0.659091</td>\n",
       "      <td>0.047114</td>\n",
       "      <td>-0.490365</td>\n",
       "      <td>0</td>\n",
       "      <td>1</td>\n",
       "    </tr>\n",
       "    <tr>\n",
       "      <th>2</th>\n",
       "      <td>1.395035</td>\n",
       "      <td>1.978665</td>\n",
       "      <td>1.021305</td>\n",
       "      <td>-1.021305</td>\n",
       "      <td>-0.622021</td>\n",
       "      <td>-1.682587</td>\n",
       "      <td>0.622021</td>\n",
       "      <td>1.682587</td>\n",
       "      <td>2.351913</td>\n",
       "      <td>2.122241</td>\n",
       "      <td>...</td>\n",
       "      <td>-0.313338</td>\n",
       "      <td>0.431134</td>\n",
       "      <td>0.487608</td>\n",
       "      <td>0.684884</td>\n",
       "      <td>0.114836</td>\n",
       "      <td>0.535974</td>\n",
       "      <td>0.743338</td>\n",
       "      <td>0.204952</td>\n",
       "      <td>0</td>\n",
       "      <td>1</td>\n",
       "    </tr>\n",
       "    <tr>\n",
       "      <th>3</th>\n",
       "      <td>-0.983324</td>\n",
       "      <td>-0.849198</td>\n",
       "      <td>-0.839586</td>\n",
       "      <td>0.839586</td>\n",
       "      <td>-0.270870</td>\n",
       "      <td>0.563230</td>\n",
       "      <td>0.270870</td>\n",
       "      <td>-0.563230</td>\n",
       "      <td>0.487818</td>\n",
       "      <td>0.194659</td>\n",
       "      <td>...</td>\n",
       "      <td>-0.507570</td>\n",
       "      <td>-0.499409</td>\n",
       "      <td>-0.236249</td>\n",
       "      <td>0.350938</td>\n",
       "      <td>-0.417514</td>\n",
       "      <td>0.911652</td>\n",
       "      <td>-0.296168</td>\n",
       "      <td>1.073948</td>\n",
       "      <td>1</td>\n",
       "      <td>0</td>\n",
       "    </tr>\n",
       "    <tr>\n",
       "      <th>4</th>\n",
       "      <td>0.143807</td>\n",
       "      <td>-0.617038</td>\n",
       "      <td>-0.924990</td>\n",
       "      <td>0.924990</td>\n",
       "      <td>0.000000</td>\n",
       "      <td>0.990324</td>\n",
       "      <td>0.000000</td>\n",
       "      <td>-0.990324</td>\n",
       "      <td>0.238693</td>\n",
       "      <td>-0.240862</td>\n",
       "      <td>...</td>\n",
       "      <td>-0.424550</td>\n",
       "      <td>-1.088158</td>\n",
       "      <td>-1.011560</td>\n",
       "      <td>0.614338</td>\n",
       "      <td>0.729495</td>\n",
       "      <td>0.245109</td>\n",
       "      <td>1.526606</td>\n",
       "      <td>2.614378</td>\n",
       "      <td>0</td>\n",
       "      <td>1</td>\n",
       "    </tr>\n",
       "  </tbody>\n",
       "</table>\n",
       "<p>5 rows × 34 columns</p>\n",
       "</div>"
      ],
      "text/plain": [
       "   DE_CONSUMPTION  FR_CONSUMPTION  DE_FR_EXCHANGE  FR_DE_EXCHANGE  \\\n",
       "0        0.210099       -0.427458       -0.606523        0.606523   \n",
       "1       -0.022399       -1.003452       -0.022063        0.022063   \n",
       "2        1.395035        1.978665        1.021305       -1.021305   \n",
       "3       -0.983324       -0.849198       -0.839586        0.839586   \n",
       "4        0.143807       -0.617038       -0.924990        0.924990   \n",
       "\n",
       "   DE_NET_EXPORT  FR_NET_EXPORT  DE_NET_IMPORT  FR_NET_IMPORT    DE_GAS  \\\n",
       "0       0.000000       0.692860       0.000000      -0.692860  0.441238   \n",
       "1      -0.573520      -1.130838       0.573520       1.130838  0.174773   \n",
       "2      -0.622021      -1.682587       0.622021       1.682587  2.351913   \n",
       "3      -0.270870       0.563230       0.270870      -0.563230  0.487818   \n",
       "4       0.000000       0.990324       0.000000      -0.990324  0.238693   \n",
       "\n",
       "     FR_GAS  ...   FR_RAIN   DE_WIND   FR_WIND   DE_TEMP   FR_TEMP   GAS_RET  \\\n",
       "0 -0.213766  ... -0.556356 -0.790823 -0.283160 -1.069070 -0.063404  0.339041   \n",
       "1  0.426940  ... -0.770457  1.522331  0.828412  0.437419  1.831241 -0.659091   \n",
       "2  2.122241  ... -0.313338  0.431134  0.487608  0.684884  0.114836  0.535974   \n",
       "3  0.194659  ... -0.507570 -0.499409 -0.236249  0.350938 -0.417514  0.911652   \n",
       "4 -0.240862  ... -0.424550 -1.088158 -1.011560  0.614338  0.729495  0.245109   \n",
       "\n",
       "   COAL_RET  CARBON_RET  COUNTRY_DE  COUNTRY_FR  \n",
       "0  0.124552   -0.002445           0           1  \n",
       "1  0.047114   -0.490365           0           1  \n",
       "2  0.743338    0.204952           0           1  \n",
       "3 -0.296168    1.073948           1           0  \n",
       "4  1.526606    2.614378           0           1  \n",
       "\n",
       "[5 rows x 34 columns]"
      ]
     },
     "execution_count": 38,
     "metadata": {},
     "output_type": "execute_result"
    }
   ],
   "source": [
    "X_train_ssID.head()"
   ]
  },
  {
   "cell_type": "markdown",
   "id": "8eec2f5a",
   "metadata": {},
   "source": [
    "### seulement sur les variables"
   ]
  },
  {
   "cell_type": "code",
   "execution_count": 31,
   "id": "e9cfb4e0",
   "metadata": {},
   "outputs": [],
   "source": [
    "abod_clf = ABOD(contamination=outliers_fraction)\n",
    "abod_clf.fit(np.array(X_train_ssID), None )"
   ]
  },
  {
   "cell_type": "code",
   "execution_count": 30,
   "id": "b11e3247",
   "metadata": {},
   "outputs": [
    {
     "data": {
      "text/plain": [
       "CBLOF(alpha=0.9, beta=5, check_estimator=False, clustering_estimator=None,\n",
       "   contamination=0.05, n_clusters=8, n_jobs=None, random_state=None,\n",
       "   use_weights=False)"
      ]
     },
     "execution_count": 30,
     "metadata": {},
     "output_type": "execute_result"
    }
   ],
   "source": [
    "cblof_clf = CBLOF(contamination=0.05,check_estimator=False)\n",
    "cblof_clf.fit(np.array(X_train_ssID), None )\n"
   ]
  },
  {
   "cell_type": "code",
   "execution_count": 29,
   "id": "8dbace04",
   "metadata": {},
   "outputs": [
    {
     "data": {
      "text/plain": [
       "ECOD(contamination=0.05, n_jobs=1)"
      ]
     },
     "execution_count": 29,
     "metadata": {},
     "output_type": "execute_result"
    }
   ],
   "source": [
    "cblof_ecd = ECOD(contamination=0.05)\n",
    "cblof_ecd.fit(np.array(X_train_ssID),None)"
   ]
  },
  {
   "cell_type": "code",
   "execution_count": null,
   "id": "0313119d",
   "metadata": {},
   "outputs": [],
   "source": [
    "df['ABOD_Clf'] = abod_clf.labels_\n",
    "df['CBLOF_Clf'] = cblof_clf.labels_"
   ]
  },
  {
   "cell_type": "markdown",
   "id": "a3c0932f",
   "metadata": {},
   "source": [
    "### sur les variables et la target"
   ]
  },
  {
   "cell_type": "code",
   "execution_count": 46,
   "id": "f55ab996",
   "metadata": {},
   "outputs": [
    {
     "data": {
      "text/html": [
       "<div>\n",
       "<style scoped>\n",
       "    .dataframe tbody tr th:only-of-type {\n",
       "        vertical-align: middle;\n",
       "    }\n",
       "\n",
       "    .dataframe tbody tr th {\n",
       "        vertical-align: top;\n",
       "    }\n",
       "\n",
       "    .dataframe thead th {\n",
       "        text-align: right;\n",
       "    }\n",
       "</style>\n",
       "<table border=\"1\" class=\"dataframe\">\n",
       "  <thead>\n",
       "    <tr style=\"text-align: right;\">\n",
       "      <th></th>\n",
       "      <th>DE_CONSUMPTION</th>\n",
       "      <th>FR_CONSUMPTION</th>\n",
       "      <th>DE_FR_EXCHANGE</th>\n",
       "      <th>FR_DE_EXCHANGE</th>\n",
       "      <th>DE_NET_EXPORT</th>\n",
       "      <th>FR_NET_EXPORT</th>\n",
       "      <th>DE_NET_IMPORT</th>\n",
       "      <th>FR_NET_IMPORT</th>\n",
       "      <th>DE_GAS</th>\n",
       "      <th>FR_GAS</th>\n",
       "      <th>...</th>\n",
       "      <th>DE_WIND</th>\n",
       "      <th>FR_WIND</th>\n",
       "      <th>DE_TEMP</th>\n",
       "      <th>FR_TEMP</th>\n",
       "      <th>GAS_RET</th>\n",
       "      <th>COAL_RET</th>\n",
       "      <th>CARBON_RET</th>\n",
       "      <th>COUNTRY_DE</th>\n",
       "      <th>COUNTRY_FR</th>\n",
       "      <th>TARGET</th>\n",
       "    </tr>\n",
       "  </thead>\n",
       "  <tbody>\n",
       "    <tr>\n",
       "      <th>0</th>\n",
       "      <td>0.210099</td>\n",
       "      <td>-0.427458</td>\n",
       "      <td>-0.606523</td>\n",
       "      <td>0.606523</td>\n",
       "      <td>0.000000</td>\n",
       "      <td>0.692860</td>\n",
       "      <td>0.000000</td>\n",
       "      <td>-0.692860</td>\n",
       "      <td>0.441238</td>\n",
       "      <td>-0.213766</td>\n",
       "      <td>...</td>\n",
       "      <td>-0.790823</td>\n",
       "      <td>-0.283160</td>\n",
       "      <td>-1.069070</td>\n",
       "      <td>-0.063404</td>\n",
       "      <td>0.339041</td>\n",
       "      <td>0.124552</td>\n",
       "      <td>-0.002445</td>\n",
       "      <td>0</td>\n",
       "      <td>1</td>\n",
       "      <td>0.028313</td>\n",
       "    </tr>\n",
       "    <tr>\n",
       "      <th>1</th>\n",
       "      <td>-0.022399</td>\n",
       "      <td>-1.003452</td>\n",
       "      <td>-0.022063</td>\n",
       "      <td>0.022063</td>\n",
       "      <td>-0.573520</td>\n",
       "      <td>-1.130838</td>\n",
       "      <td>0.573520</td>\n",
       "      <td>1.130838</td>\n",
       "      <td>0.174773</td>\n",
       "      <td>0.426940</td>\n",
       "      <td>...</td>\n",
       "      <td>1.522331</td>\n",
       "      <td>0.828412</td>\n",
       "      <td>0.437419</td>\n",
       "      <td>1.831241</td>\n",
       "      <td>-0.659091</td>\n",
       "      <td>0.047114</td>\n",
       "      <td>-0.490365</td>\n",
       "      <td>0</td>\n",
       "      <td>1</td>\n",
       "      <td>-0.112516</td>\n",
       "    </tr>\n",
       "    <tr>\n",
       "      <th>2</th>\n",
       "      <td>1.395035</td>\n",
       "      <td>1.978665</td>\n",
       "      <td>1.021305</td>\n",
       "      <td>-1.021305</td>\n",
       "      <td>-0.622021</td>\n",
       "      <td>-1.682587</td>\n",
       "      <td>0.622021</td>\n",
       "      <td>1.682587</td>\n",
       "      <td>2.351913</td>\n",
       "      <td>2.122241</td>\n",
       "      <td>...</td>\n",
       "      <td>0.431134</td>\n",
       "      <td>0.487608</td>\n",
       "      <td>0.684884</td>\n",
       "      <td>0.114836</td>\n",
       "      <td>0.535974</td>\n",
       "      <td>0.743338</td>\n",
       "      <td>0.204952</td>\n",
       "      <td>0</td>\n",
       "      <td>1</td>\n",
       "      <td>-0.180840</td>\n",
       "    </tr>\n",
       "    <tr>\n",
       "      <th>3</th>\n",
       "      <td>-0.983324</td>\n",
       "      <td>-0.849198</td>\n",
       "      <td>-0.839586</td>\n",
       "      <td>0.839586</td>\n",
       "      <td>-0.270870</td>\n",
       "      <td>0.563230</td>\n",
       "      <td>0.270870</td>\n",
       "      <td>-0.563230</td>\n",
       "      <td>0.487818</td>\n",
       "      <td>0.194659</td>\n",
       "      <td>...</td>\n",
       "      <td>-0.499409</td>\n",
       "      <td>-0.236249</td>\n",
       "      <td>0.350938</td>\n",
       "      <td>-0.417514</td>\n",
       "      <td>0.911652</td>\n",
       "      <td>-0.296168</td>\n",
       "      <td>1.073948</td>\n",
       "      <td>1</td>\n",
       "      <td>0</td>\n",
       "      <td>-0.260356</td>\n",
       "    </tr>\n",
       "    <tr>\n",
       "      <th>4</th>\n",
       "      <td>0.143807</td>\n",
       "      <td>-0.617038</td>\n",
       "      <td>-0.924990</td>\n",
       "      <td>0.924990</td>\n",
       "      <td>0.000000</td>\n",
       "      <td>0.990324</td>\n",
       "      <td>0.000000</td>\n",
       "      <td>-0.990324</td>\n",
       "      <td>0.238693</td>\n",
       "      <td>-0.240862</td>\n",
       "      <td>...</td>\n",
       "      <td>-1.088158</td>\n",
       "      <td>-1.011560</td>\n",
       "      <td>0.614338</td>\n",
       "      <td>0.729495</td>\n",
       "      <td>0.245109</td>\n",
       "      <td>1.526606</td>\n",
       "      <td>2.614378</td>\n",
       "      <td>0</td>\n",
       "      <td>1</td>\n",
       "      <td>-0.071733</td>\n",
       "    </tr>\n",
       "  </tbody>\n",
       "</table>\n",
       "<p>5 rows × 35 columns</p>\n",
       "</div>"
      ],
      "text/plain": [
       "   DE_CONSUMPTION  FR_CONSUMPTION  DE_FR_EXCHANGE  FR_DE_EXCHANGE  \\\n",
       "0        0.210099       -0.427458       -0.606523        0.606523   \n",
       "1       -0.022399       -1.003452       -0.022063        0.022063   \n",
       "2        1.395035        1.978665        1.021305       -1.021305   \n",
       "3       -0.983324       -0.849198       -0.839586        0.839586   \n",
       "4        0.143807       -0.617038       -0.924990        0.924990   \n",
       "\n",
       "   DE_NET_EXPORT  FR_NET_EXPORT  DE_NET_IMPORT  FR_NET_IMPORT    DE_GAS  \\\n",
       "0       0.000000       0.692860       0.000000      -0.692860  0.441238   \n",
       "1      -0.573520      -1.130838       0.573520       1.130838  0.174773   \n",
       "2      -0.622021      -1.682587       0.622021       1.682587  2.351913   \n",
       "3      -0.270870       0.563230       0.270870      -0.563230  0.487818   \n",
       "4       0.000000       0.990324       0.000000      -0.990324  0.238693   \n",
       "\n",
       "     FR_GAS  ...   DE_WIND   FR_WIND   DE_TEMP   FR_TEMP   GAS_RET  COAL_RET  \\\n",
       "0 -0.213766  ... -0.790823 -0.283160 -1.069070 -0.063404  0.339041  0.124552   \n",
       "1  0.426940  ...  1.522331  0.828412  0.437419  1.831241 -0.659091  0.047114   \n",
       "2  2.122241  ...  0.431134  0.487608  0.684884  0.114836  0.535974  0.743338   \n",
       "3  0.194659  ... -0.499409 -0.236249  0.350938 -0.417514  0.911652 -0.296168   \n",
       "4 -0.240862  ... -1.088158 -1.011560  0.614338  0.729495  0.245109  1.526606   \n",
       "\n",
       "   CARBON_RET  COUNTRY_DE  COUNTRY_FR    TARGET  \n",
       "0   -0.002445           0           1  0.028313  \n",
       "1   -0.490365           0           1 -0.112516  \n",
       "2    0.204952           0           1 -0.180840  \n",
       "3    1.073948           1           0 -0.260356  \n",
       "4    2.614378           0           1 -0.071733  \n",
       "\n",
       "[5 rows x 35 columns]"
      ]
     },
     "execution_count": 46,
     "metadata": {},
     "output_type": "execute_result"
    }
   ],
   "source": [
    "X_Y_train_ssID.head()"
   ]
  },
  {
   "cell_type": "code",
   "execution_count": 47,
   "id": "248955fd",
   "metadata": {},
   "outputs": [
    {
     "data": {
      "text/plain": [
       "ABOD(contamination=0.05, method='fast', n_neighbors=5)"
      ]
     },
     "execution_count": 47,
     "metadata": {},
     "output_type": "execute_result"
    }
   ],
   "source": [
    "abod_clf = ABOD(contamination=outliers_fraction)\n",
    "abod_clf.fit(np.array(X_Y_train_ssID) )"
   ]
  },
  {
   "cell_type": "code",
   "execution_count": 48,
   "id": "ad0df116",
   "metadata": {},
   "outputs": [
    {
     "data": {
      "text/plain": [
       "array([0, 0, 0, ..., 0, 0, 0])"
      ]
     },
     "execution_count": 48,
     "metadata": {},
     "output_type": "execute_result"
    }
   ],
   "source": [
    "abod_clf.labels_"
   ]
  },
  {
   "cell_type": "code",
   "execution_count": 49,
   "id": "d303032f",
   "metadata": {},
   "outputs": [
    {
     "data": {
      "text/plain": [
       "CBLOF(alpha=0.9, beta=5, check_estimator=False, clustering_estimator=None,\n",
       "   contamination=0.05, n_clusters=8, n_jobs=None, random_state=None,\n",
       "   use_weights=False)"
      ]
     },
     "execution_count": 49,
     "metadata": {},
     "output_type": "execute_result"
    }
   ],
   "source": [
    "cblof_clf = CBLOF(contamination=0.05,check_estimator=False)\n",
    "cblof_clf.fit(np.array(X_Y_train_ssID))"
   ]
  },
  {
   "cell_type": "code",
   "execution_count": 50,
   "id": "c936aad7",
   "metadata": {},
   "outputs": [
    {
     "data": {
      "text/plain": [
       "array([0, 0, 0, ..., 0, 1, 0])"
      ]
     },
     "execution_count": 50,
     "metadata": {},
     "output_type": "execute_result"
    }
   ],
   "source": [
    "cblof_clf.labels_"
   ]
  },
  {
   "cell_type": "code",
   "execution_count": 51,
   "id": "c6bcefb6",
   "metadata": {},
   "outputs": [
    {
     "data": {
      "text/plain": [
       "ECOD(contamination=0.05, n_jobs=1)"
      ]
     },
     "execution_count": 51,
     "metadata": {},
     "output_type": "execute_result"
    }
   ],
   "source": [
    "ecod_clf = ECOD(contamination=0.05)\n",
    "ecod_clf.fit(np.array(X_Y_train_ssID))"
   ]
  },
  {
   "cell_type": "code",
   "execution_count": 59,
   "id": "930a3fea",
   "metadata": {},
   "outputs": [
    {
     "data": {
      "text/plain": [
       "array([0, 0, 0, ..., 0, 0, 0])"
      ]
     },
     "execution_count": 59,
     "metadata": {},
     "output_type": "execute_result"
    }
   ],
   "source": [
    "ecod_clf.labels_"
   ]
  },
  {
   "cell_type": "code",
   "execution_count": 55,
   "id": "56f66d81",
   "metadata": {},
   "outputs": [
    {
     "data": {
      "text/plain": [
       "122"
      ]
     },
     "execution_count": 55,
     "metadata": {},
     "output_type": "execute_result"
    }
   ],
   "source": [
    "abod_clf.labels_.shape[0] - np.sum(abod_clf.labels_ == ecod_clf.labels_)"
   ]
  },
  {
   "cell_type": "markdown",
   "id": "d890777a",
   "metadata": {},
   "source": [
    "122 points où ils ne sont pas d'accord sur l'identification de l'outlier."
   ]
  },
  {
   "cell_type": "code",
   "execution_count": 60,
   "id": "622b36e0",
   "metadata": {},
   "outputs": [
    {
     "name": "stdout",
     "output_type": "stream",
     "text": [
      "Le nombre d'outliers détectés par les méthodes de ABOD, ECOD, CBLOF est 75 75 75\n",
      "C'est normal car on a demandé 5% d'outlier, 0.05*1494 = 75\n",
      "\n",
      "\n",
      "Le nombre de labelisations différentes entre ABOD et ECOD 122\n",
      "\n",
      "Le nombre de labelisations différentes entre ABOD et CBLOF 88\n",
      "\n",
      "Le nombre de labelisations différentes entre ECOD et CBLOF 90\n"
     ]
    }
   ],
   "source": [
    "print(\"Le nombre d'outliers détectés par les méthodes de ABOD, ECOD, CBLOF est\",\n",
    "      np.sum(abod_clf.labels_),np.sum(ecod_clf.labels_), np.sum(cblof_clf.labels_) )\n",
    "print(\"C'est normal car on a demandé 5% d'outlier, 0.05*1494 = 75\")\n",
    "\n",
    "print(\"\\n\\nLe nombre de labelisations différentes entre ABOD et ECOD\", \n",
    "      abod_clf.labels_.shape[0] - np.sum(abod_clf.labels_ == ecod_clf.labels_))\n",
    "\n",
    "print(\"\\nLe nombre de labelisations différentes entre ABOD et CBLOF\", \n",
    "      abod_clf.labels_.shape[0] - np.sum(abod_clf.labels_ == cblof_clf.labels_))\n",
    "\n",
    "print(\"\\nLe nombre de labelisations différentes entre ECOD et CBLOF\", \n",
    "      abod_clf.labels_.shape[0] - np.sum(ecod_clf.labels_ == cblof_clf.labels_))\n",
    "\n"
   ]
  },
  {
   "cell_type": "code",
   "execution_count": 65,
   "id": "304ff9ef",
   "metadata": {},
   "outputs": [
    {
     "data": {
      "text/plain": [
       "Text(0.5, 1.0, 'CBLOF')"
      ]
     },
     "execution_count": 65,
     "metadata": {},
     "output_type": "execute_result"
    },
    {
     "data": {
      "image/png": "[encoded data removed]",
      "text/plain": [
       "<Figure size 432x576 with 3 Axes>"
      ]
     },
     "metadata": {
      "needs_background": "light"
     },
     "output_type": "display_data"
    }
   ],
   "source": [
    "import matplotlib.pyplot as plt\n",
    "\n",
    "# Créer une figure avec 3 sous-figures\n",
    "fig, axs = plt.subplots(3, 1, figsize=(6, 8))\n",
    "\n",
    "# Créer les histogrammes pour chaque sous-figure\n",
    "axs[0].hist(abod_clf.decision_scores_, bins=50, color='blue', alpha=0.5)\n",
    "axs[1].hist(ecod_clf.decision_scores_, bins=50, color='green', alpha=0.5)\n",
    "axs[2].hist(cblof_clf.decision_scores_, bins=50, color='red', alpha=0.5)\n",
    "\n",
    "# Ajouter des titres et des étiquettes aux axes\n",
    "axs[0].set_title('ABOD')\n",
    "axs[1].set_title('ECOD')\n",
    "axs[2].set_title('CBLOF')"
   ]
  },
  {
   "cell_type": "code",
   "execution_count": 76,
   "id": "a237d4a4",
   "metadata": {},
   "outputs": [],
   "source": [
    "###on va rechercher le meilleur pourcentage d'outlier,\n",
    "##pour ce faire on va parcourir toutes les outlier_fraction de 0 à 8 et prendre 40 points\n",
    "scores=[]\n",
    "fractions = np.linspace(0.001,0.5,40)\n",
    "\n",
    "for outlier_fraction in fractions :\n",
    "    abod_clf = ABOD(contamination=outlier_fraction)\n",
    "    abod_clf.fit(np.array(X_Y_train_ssID) )\n",
    "    \n",
    "    cblof_clf = CBLOF(contamination=outlier_fraction,check_estimator=False)\n",
    "    cblof_clf.fit(np.array(X_Y_train_ssID))\n",
    "    \n",
    "    ecod_clf = ECOD(contamination=outlier_fraction)\n",
    "    ecod_clf.fit(np.array(X_Y_train_ssID))\n",
    "    \n",
    "   \n",
    "    ABOD_ECOD =  abod_clf.labels_.shape[0] - np.sum(abod_clf.labels_ == ecod_clf.labels_)\n",
    "    ABOD_CBLOF =  abod_clf.labels_.shape[0] - np.sum(abod_clf.labels_ == cblof_clf.labels_)\n",
    "    ECOD_CBLOF =  abod_clf.labels_.shape[0] - np.sum(ecod_clf.labels_ == cblof_clf.labels_)\n",
    "    #print(np.sum(cblof_clf.labels_))\n",
    "    score = (ABOD_ECOD+ABOD_CBLOF+ECOD_CBLOF)/(3*np.sum(cblof_clf.labels_))\n",
    "    scores.append(score)\n",
    "    "
   ]
  },
  {
   "cell_type": "code",
   "execution_count": 75,
   "id": "118e6d48",
   "metadata": {},
   "outputs": [
    {
     "data": {
      "text/plain": [
       "Text(0.5, 1.0, \"Scores en fonction du pourcentage d'outliers\")"
      ]
     },
     "execution_count": 75,
     "metadata": {},
     "output_type": "execute_result"
    },
    {
     "data": {
      "image/png": "[encoded data removed]",
      "text/plain": [
       "<Figure size 432x288 with 1 Axes>"
      ]
     },
     "metadata": {
      "needs_background": "light"
     },
     "output_type": "display_data"
    }
   ],
   "source": [
    "plt.plot(fractions, scores)\n",
    "plt.title(\"Scores en fonction du pourcentage d'outliers\")"
   ]
  },
  {
   "cell_type": "markdown",
   "id": "c18ede28",
   "metadata": {},
   "source": [
    "## Linear Regression Sans Outliers"
   ]
  },
  {
   "cell_type": "code",
   "execution_count": 96,
   "id": "47ee5897",
   "metadata": {},
   "outputs": [],
   "source": [
    "# Split du Dataset\n",
    "# Attention au split qui ne prend pas en compte la chronologie de la data : les ordonner avant de split ?\n",
    "from sklearn.model_selection import train_test_split\n",
    "\n",
    "X_train_split, X_test_split, y_train_split, y_test_split = train_test_split(X_train, Y_train, \n",
    "                                                    test_size=0.20, \n",
    "                                                    random_state=42)"
   ]
  },
  {
   "cell_type": "code",
   "execution_count": 101,
   "id": "f8b1ca22",
   "metadata": {},
   "outputs": [],
   "source": [
    "X_test_split_clean = X_test_split.drop(['ID', 'DAY_ID'], axis=1).fillna(0)"
   ]
  },
  {
   "cell_type": "code",
   "execution_count": 102,
   "id": "e6b77a3f",
   "metadata": {},
   "outputs": [],
   "source": [
    "data_train_split= pd.merge(X_train_split, y_train_split, on = ['ID']).drop(['ID', 'DAY_ID'], axis=1).fillna(0)\n",
    "\n",
    "data_test_split = pd.merge(X_test_split, y_test_split, on = ['ID']).drop(['ID', 'DAY_ID'], axis=1).fillna(0)"
   ]
  },
  {
   "cell_type": "code",
   "execution_count": 103,
   "id": "809db5f1",
   "metadata": {},
   "outputs": [
    {
     "data": {
      "text/plain": [
       "CBLOF(alpha=0.9, beta=5, check_estimator=False, clustering_estimator=None,\n",
       "   contamination=0.05, n_clusters=8, n_jobs=None, random_state=None,\n",
       "   use_weights=False)"
      ]
     },
     "execution_count": 103,
     "metadata": {},
     "output_type": "execute_result"
    }
   ],
   "source": [
    "cblof_clf = CBLOF(contamination=0.05,check_estimator=False)\n",
    "cblof_clf.fit(data_train_split)"
   ]
  },
  {
   "cell_type": "code",
   "execution_count": 104,
   "id": "195e27f6",
   "metadata": {},
   "outputs": [],
   "source": [
    "data_clean = data_train_split.iloc[np.where(cblof_clf.labels_==False)[0]]"
   ]
  },
  {
   "cell_type": "code",
   "execution_count": 109,
   "id": "4f23f67b",
   "metadata": {},
   "outputs": [
    {
     "data": {
      "text/html": [
       "<div>\n",
       "<style scoped>\n",
       "    .dataframe tbody tr th:only-of-type {\n",
       "        vertical-align: middle;\n",
       "    }\n",
       "\n",
       "    .dataframe tbody tr th {\n",
       "        vertical-align: top;\n",
       "    }\n",
       "\n",
       "    .dataframe thead th {\n",
       "        text-align: right;\n",
       "    }\n",
       "</style>\n",
       "<table border=\"1\" class=\"dataframe\">\n",
       "  <thead>\n",
       "    <tr style=\"text-align: right;\">\n",
       "      <th></th>\n",
       "      <th>DE_CONSUMPTION</th>\n",
       "      <th>FR_CONSUMPTION</th>\n",
       "      <th>DE_FR_EXCHANGE</th>\n",
       "      <th>FR_DE_EXCHANGE</th>\n",
       "      <th>DE_NET_EXPORT</th>\n",
       "      <th>FR_NET_EXPORT</th>\n",
       "      <th>DE_NET_IMPORT</th>\n",
       "      <th>FR_NET_IMPORT</th>\n",
       "      <th>DE_GAS</th>\n",
       "      <th>FR_GAS</th>\n",
       "      <th>...</th>\n",
       "      <th>DE_WIND</th>\n",
       "      <th>FR_WIND</th>\n",
       "      <th>DE_TEMP</th>\n",
       "      <th>FR_TEMP</th>\n",
       "      <th>GAS_RET</th>\n",
       "      <th>COAL_RET</th>\n",
       "      <th>CARBON_RET</th>\n",
       "      <th>COUNTRY_DE</th>\n",
       "      <th>COUNTRY_FR</th>\n",
       "      <th>TARGET</th>\n",
       "    </tr>\n",
       "  </thead>\n",
       "  <tbody>\n",
       "    <tr>\n",
       "      <th>0</th>\n",
       "      <td>0.887536</td>\n",
       "      <td>0.458947</td>\n",
       "      <td>0.187241</td>\n",
       "      <td>-0.187241</td>\n",
       "      <td>-0.306899</td>\n",
       "      <td>-0.132897</td>\n",
       "      <td>0.306899</td>\n",
       "      <td>0.132897</td>\n",
       "      <td>2.002031</td>\n",
       "      <td>1.077058</td>\n",
       "      <td>...</td>\n",
       "      <td>0.000000</td>\n",
       "      <td>0.000000</td>\n",
       "      <td>0.000000</td>\n",
       "      <td>0.000000</td>\n",
       "      <td>0.297234</td>\n",
       "      <td>0.172894</td>\n",
       "      <td>0.218442</td>\n",
       "      <td>0</td>\n",
       "      <td>1</td>\n",
       "      <td>-0.143463</td>\n",
       "    </tr>\n",
       "    <tr>\n",
       "      <th>1</th>\n",
       "      <td>1.094086</td>\n",
       "      <td>0.682399</td>\n",
       "      <td>-0.652040</td>\n",
       "      <td>0.652040</td>\n",
       "      <td>0.210913</td>\n",
       "      <td>0.784182</td>\n",
       "      <td>-0.210913</td>\n",
       "      <td>-0.784182</td>\n",
       "      <td>1.463603</td>\n",
       "      <td>1.253415</td>\n",
       "      <td>...</td>\n",
       "      <td>0.000000</td>\n",
       "      <td>0.000000</td>\n",
       "      <td>0.000000</td>\n",
       "      <td>0.000000</td>\n",
       "      <td>1.026604</td>\n",
       "      <td>0.940184</td>\n",
       "      <td>0.307300</td>\n",
       "      <td>0</td>\n",
       "      <td>1</td>\n",
       "      <td>-0.197998</td>\n",
       "    </tr>\n",
       "    <tr>\n",
       "      <th>2</th>\n",
       "      <td>0.840833</td>\n",
       "      <td>0.502048</td>\n",
       "      <td>-0.269059</td>\n",
       "      <td>0.269059</td>\n",
       "      <td>0.354680</td>\n",
       "      <td>0.448054</td>\n",
       "      <td>-0.354680</td>\n",
       "      <td>-0.448054</td>\n",
       "      <td>1.151507</td>\n",
       "      <td>1.104127</td>\n",
       "      <td>...</td>\n",
       "      <td>-0.782648</td>\n",
       "      <td>-0.091823</td>\n",
       "      <td>0.682097</td>\n",
       "      <td>0.118065</td>\n",
       "      <td>1.305656</td>\n",
       "      <td>1.522940</td>\n",
       "      <td>1.256574</td>\n",
       "      <td>0</td>\n",
       "      <td>1</td>\n",
       "      <td>0.054675</td>\n",
       "    </tr>\n",
       "    <tr>\n",
       "      <th>3</th>\n",
       "      <td>0.241260</td>\n",
       "      <td>-0.724728</td>\n",
       "      <td>-1.332251</td>\n",
       "      <td>1.332251</td>\n",
       "      <td>-1.267757</td>\n",
       "      <td>0.877023</td>\n",
       "      <td>1.267757</td>\n",
       "      <td>-0.877023</td>\n",
       "      <td>0.303140</td>\n",
       "      <td>-0.182718</td>\n",
       "      <td>...</td>\n",
       "      <td>-0.661079</td>\n",
       "      <td>-0.860775</td>\n",
       "      <td>1.556207</td>\n",
       "      <td>0.324603</td>\n",
       "      <td>-1.285317</td>\n",
       "      <td>-0.990099</td>\n",
       "      <td>-0.345532</td>\n",
       "      <td>0</td>\n",
       "      <td>1</td>\n",
       "      <td>0.058881</td>\n",
       "    </tr>\n",
       "    <tr>\n",
       "      <th>4</th>\n",
       "      <td>0.649475</td>\n",
       "      <td>-0.092046</td>\n",
       "      <td>-0.463234</td>\n",
       "      <td>0.463234</td>\n",
       "      <td>-0.240366</td>\n",
       "      <td>-0.175779</td>\n",
       "      <td>0.240366</td>\n",
       "      <td>0.175779</td>\n",
       "      <td>1.973318</td>\n",
       "      <td>0.515358</td>\n",
       "      <td>...</td>\n",
       "      <td>-0.903382</td>\n",
       "      <td>-0.488872</td>\n",
       "      <td>0.379985</td>\n",
       "      <td>-0.537956</td>\n",
       "      <td>-0.932351</td>\n",
       "      <td>-1.448664</td>\n",
       "      <td>-0.195000</td>\n",
       "      <td>1</td>\n",
       "      <td>0</td>\n",
       "      <td>-0.353890</td>\n",
       "    </tr>\n",
       "    <tr>\n",
       "      <th>...</th>\n",
       "      <td>...</td>\n",
       "      <td>...</td>\n",
       "      <td>...</td>\n",
       "      <td>...</td>\n",
       "      <td>...</td>\n",
       "      <td>...</td>\n",
       "      <td>...</td>\n",
       "      <td>...</td>\n",
       "      <td>...</td>\n",
       "      <td>...</td>\n",
       "      <td>...</td>\n",
       "      <td>...</td>\n",
       "      <td>...</td>\n",
       "      <td>...</td>\n",
       "      <td>...</td>\n",
       "      <td>...</td>\n",
       "      <td>...</td>\n",
       "      <td>...</td>\n",
       "      <td>...</td>\n",
       "      <td>...</td>\n",
       "      <td>...</td>\n",
       "    </tr>\n",
       "    <tr>\n",
       "      <th>1190</th>\n",
       "      <td>0.862662</td>\n",
       "      <td>0.057560</td>\n",
       "      <td>0.507794</td>\n",
       "      <td>-0.507794</td>\n",
       "      <td>0.991940</td>\n",
       "      <td>0.640973</td>\n",
       "      <td>-0.991940</td>\n",
       "      <td>-0.640973</td>\n",
       "      <td>0.270689</td>\n",
       "      <td>0.974641</td>\n",
       "      <td>...</td>\n",
       "      <td>-0.189836</td>\n",
       "      <td>-0.108926</td>\n",
       "      <td>0.996129</td>\n",
       "      <td>1.019857</td>\n",
       "      <td>0.409330</td>\n",
       "      <td>1.399861</td>\n",
       "      <td>0.369472</td>\n",
       "      <td>0</td>\n",
       "      <td>1</td>\n",
       "      <td>-0.192353</td>\n",
       "    </tr>\n",
       "    <tr>\n",
       "      <th>1191</th>\n",
       "      <td>1.017589</td>\n",
       "      <td>1.095426</td>\n",
       "      <td>-1.147988</td>\n",
       "      <td>1.147988</td>\n",
       "      <td>-0.325986</td>\n",
       "      <td>0.826487</td>\n",
       "      <td>0.325986</td>\n",
       "      <td>-0.826487</td>\n",
       "      <td>1.624622</td>\n",
       "      <td>1.539692</td>\n",
       "      <td>...</td>\n",
       "      <td>-0.660718</td>\n",
       "      <td>-0.238744</td>\n",
       "      <td>0.010743</td>\n",
       "      <td>0.608786</td>\n",
       "      <td>0.852829</td>\n",
       "      <td>-0.042812</td>\n",
       "      <td>-0.260673</td>\n",
       "      <td>0</td>\n",
       "      <td>1</td>\n",
       "      <td>-0.020178</td>\n",
       "    </tr>\n",
       "    <tr>\n",
       "      <th>1192</th>\n",
       "      <td>1.428743</td>\n",
       "      <td>0.934636</td>\n",
       "      <td>-0.449670</td>\n",
       "      <td>0.449670</td>\n",
       "      <td>0.583453</td>\n",
       "      <td>0.140900</td>\n",
       "      <td>-0.583453</td>\n",
       "      <td>-0.140900</td>\n",
       "      <td>1.136642</td>\n",
       "      <td>1.057465</td>\n",
       "      <td>...</td>\n",
       "      <td>0.000000</td>\n",
       "      <td>0.000000</td>\n",
       "      <td>0.000000</td>\n",
       "      <td>0.000000</td>\n",
       "      <td>-0.380672</td>\n",
       "      <td>-0.752106</td>\n",
       "      <td>-0.212513</td>\n",
       "      <td>1</td>\n",
       "      <td>0</td>\n",
       "      <td>-0.236414</td>\n",
       "    </tr>\n",
       "    <tr>\n",
       "      <th>1193</th>\n",
       "      <td>0.651926</td>\n",
       "      <td>-0.329341</td>\n",
       "      <td>0.103032</td>\n",
       "      <td>-0.103032</td>\n",
       "      <td>0.052131</td>\n",
       "      <td>0.341087</td>\n",
       "      <td>-0.052131</td>\n",
       "      <td>-0.341087</td>\n",
       "      <td>-0.183239</td>\n",
       "      <td>-0.080466</td>\n",
       "      <td>...</td>\n",
       "      <td>0.329869</td>\n",
       "      <td>0.545885</td>\n",
       "      <td>-0.894588</td>\n",
       "      <td>-0.730405</td>\n",
       "      <td>3.155879</td>\n",
       "      <td>0.601560</td>\n",
       "      <td>-0.523791</td>\n",
       "      <td>1</td>\n",
       "      <td>0</td>\n",
       "      <td>-0.829869</td>\n",
       "    </tr>\n",
       "    <tr>\n",
       "      <th>1194</th>\n",
       "      <td>1.597052</td>\n",
       "      <td>0.942747</td>\n",
       "      <td>-0.867735</td>\n",
       "      <td>0.867735</td>\n",
       "      <td>0.268899</td>\n",
       "      <td>1.437880</td>\n",
       "      <td>-0.268899</td>\n",
       "      <td>-1.437880</td>\n",
       "      <td>0.552748</td>\n",
       "      <td>0.810631</td>\n",
       "      <td>...</td>\n",
       "      <td>0.034565</td>\n",
       "      <td>0.131126</td>\n",
       "      <td>1.060523</td>\n",
       "      <td>1.037549</td>\n",
       "      <td>2.459422</td>\n",
       "      <td>0.294995</td>\n",
       "      <td>0.621184</td>\n",
       "      <td>0</td>\n",
       "      <td>1</td>\n",
       "      <td>0.279534</td>\n",
       "    </tr>\n",
       "  </tbody>\n",
       "</table>\n",
       "<p>1135 rows × 35 columns</p>\n",
       "</div>"
      ],
      "text/plain": [
       "      DE_CONSUMPTION  FR_CONSUMPTION  DE_FR_EXCHANGE  FR_DE_EXCHANGE  \\\n",
       "0           0.887536        0.458947        0.187241       -0.187241   \n",
       "1           1.094086        0.682399       -0.652040        0.652040   \n",
       "2           0.840833        0.502048       -0.269059        0.269059   \n",
       "3           0.241260       -0.724728       -1.332251        1.332251   \n",
       "4           0.649475       -0.092046       -0.463234        0.463234   \n",
       "...              ...             ...             ...             ...   \n",
       "1190        0.862662        0.057560        0.507794       -0.507794   \n",
       "1191        1.017589        1.095426       -1.147988        1.147988   \n",
       "1192        1.428743        0.934636       -0.449670        0.449670   \n",
       "1193        0.651926       -0.329341        0.103032       -0.103032   \n",
       "1194        1.597052        0.942747       -0.867735        0.867735   \n",
       "\n",
       "      DE_NET_EXPORT  FR_NET_EXPORT  DE_NET_IMPORT  FR_NET_IMPORT    DE_GAS  \\\n",
       "0         -0.306899      -0.132897       0.306899       0.132897  2.002031   \n",
       "1          0.210913       0.784182      -0.210913      -0.784182  1.463603   \n",
       "2          0.354680       0.448054      -0.354680      -0.448054  1.151507   \n",
       "3         -1.267757       0.877023       1.267757      -0.877023  0.303140   \n",
       "4         -0.240366      -0.175779       0.240366       0.175779  1.973318   \n",
       "...             ...            ...            ...            ...       ...   \n",
       "1190       0.991940       0.640973      -0.991940      -0.640973  0.270689   \n",
       "1191      -0.325986       0.826487       0.325986      -0.826487  1.624622   \n",
       "1192       0.583453       0.140900      -0.583453      -0.140900  1.136642   \n",
       "1193       0.052131       0.341087      -0.052131      -0.341087 -0.183239   \n",
       "1194       0.268899       1.437880      -0.268899      -1.437880  0.552748   \n",
       "\n",
       "        FR_GAS  ...   DE_WIND   FR_WIND   DE_TEMP   FR_TEMP   GAS_RET  \\\n",
       "0     1.077058  ...  0.000000  0.000000  0.000000  0.000000  0.297234   \n",
       "1     1.253415  ...  0.000000  0.000000  0.000000  0.000000  1.026604   \n",
       "2     1.104127  ... -0.782648 -0.091823  0.682097  0.118065  1.305656   \n",
       "3    -0.182718  ... -0.661079 -0.860775  1.556207  0.324603 -1.285317   \n",
       "4     0.515358  ... -0.903382 -0.488872  0.379985 -0.537956 -0.932351   \n",
       "...        ...  ...       ...       ...       ...       ...       ...   \n",
       "1190  0.974641  ... -0.189836 -0.108926  0.996129  1.019857  0.409330   \n",
       "1191  1.539692  ... -0.660718 -0.238744  0.010743  0.608786  0.852829   \n",
       "1192  1.057465  ...  0.000000  0.000000  0.000000  0.000000 -0.380672   \n",
       "1193 -0.080466  ...  0.329869  0.545885 -0.894588 -0.730405  3.155879   \n",
       "1194  0.810631  ...  0.034565  0.131126  1.060523  1.037549  2.459422   \n",
       "\n",
       "      COAL_RET  CARBON_RET  COUNTRY_DE  COUNTRY_FR    TARGET  \n",
       "0     0.172894    0.218442           0           1 -0.143463  \n",
       "1     0.940184    0.307300           0           1 -0.197998  \n",
       "2     1.522940    1.256574           0           1  0.054675  \n",
       "3    -0.990099   -0.345532           0           1  0.058881  \n",
       "4    -1.448664   -0.195000           1           0 -0.353890  \n",
       "...        ...         ...         ...         ...       ...  \n",
       "1190  1.399861    0.369472           0           1 -0.192353  \n",
       "1191 -0.042812   -0.260673           0           1 -0.020178  \n",
       "1192 -0.752106   -0.212513           1           0 -0.236414  \n",
       "1193  0.601560   -0.523791           1           0 -0.829869  \n",
       "1194  0.294995    0.621184           0           1  0.279534  \n",
       "\n",
       "[1135 rows x 35 columns]"
      ]
     },
     "execution_count": 109,
     "metadata": {},
     "output_type": "execute_result"
    }
   ],
   "source": [
    "data_clean"
   ]
  },
  {
   "cell_type": "code",
   "execution_count": 111,
   "id": "f20cce32",
   "metadata": {},
   "outputs": [
    {
     "data": {
      "text/plain": [
       "0      -0.143463\n",
       "1      -0.197998\n",
       "2       0.054675\n",
       "3       0.058881\n",
       "4      -0.353890\n",
       "          ...   \n",
       "1190   -0.192353\n",
       "1191   -0.020178\n",
       "1192   -0.236414\n",
       "1193   -0.829869\n",
       "1194    0.279534\n",
       "Name: TARGET, Length: 1135, dtype: float64"
      ]
     },
     "execution_count": 111,
     "metadata": {},
     "output_type": "execute_result"
    }
   ],
   "source": [
    "data_clean['TARGET']"
   ]
  },
  {
   "cell_type": "code",
   "execution_count": 107,
   "id": "5e37d33a",
   "metadata": {},
   "outputs": [
    {
     "ename": "TypeError",
     "evalue": "unsupported format string passed to numpy.ndarray.__format__",
     "output_type": "error",
     "traceback": [
      "\u001b[1;31m---------------------------------------------------------------------------\u001b[0m",
      "\u001b[1;31mTypeError\u001b[0m                                 Traceback (most recent call last)",
      "Input \u001b[1;32mIn [107]\u001b[0m, in \u001b[0;36m<cell line: 15>\u001b[1;34m()\u001b[0m\n\u001b[0;32m     11\u001b[0m     \u001b[38;5;28;01mreturn\u001b[39;00m  spearmanr(output, y_test_split)\u001b[38;5;241m.\u001b[39mcorrelation\n\u001b[0;32m     13\u001b[0m \u001b[38;5;66;03m# On vérifie que notre split repdroduit bien le benchmark : on désire retrouver une Corrélation de 15.9 % sur y_test_split\u001b[39;00m\n\u001b[1;32m---> 15\u001b[0m \u001b[38;5;28mprint\u001b[39m(\u001b[38;5;124;43m\"\u001b[39;49m\u001b[38;5;124;43mCorrélation (Spearman) pour les données d\u001b[39;49m\u001b[38;5;124;43m'\u001b[39;49m\u001b[38;5;124;43mentrainement Regression linéaire : \u001b[39;49m\u001b[38;5;132;43;01m{:.1f}\u001b[39;49;00m\u001b[38;5;124;43m%\u001b[39;49m\u001b[38;5;124;43m\"\u001b[39;49m\u001b[38;5;241;43m.\u001b[39;49m\u001b[43mformat\u001b[49m\u001b[43m(\u001b[49m\u001b[38;5;241;43m100\u001b[39;49m\u001b[43m \u001b[49m\u001b[38;5;241;43m*\u001b[39;49m\u001b[43m \u001b[49m\u001b[43mmetric_train\u001b[49m\u001b[43m(\u001b[49m\u001b[43moutput_split\u001b[49m\u001b[43m)\u001b[49m\u001b[43m \u001b[49m\u001b[43m)\u001b[49m)\n",
      "\u001b[1;31mTypeError\u001b[0m: unsupported format string passed to numpy.ndarray.__format__"
     ]
    }
   ],
   "source": [
    "# Linear Regression sur notre X_train_split et Y_train_split\n",
    "\n",
    "lr_split = LinearRegression()\n",
    "\n",
    "lr_split.fit(data_clean.drop(['TARGET'], axis=1), data_clean['TARGET'])\n",
    "\n",
    "output_split = lr_split.predict(X_test_split_clean)\n",
    "\n",
    "def metric_train(output):\n",
    "\n",
    "    return  spearmanr(output, y_test_split).correlation\n",
    "\n",
    "# On vérifie que notre split repdroduit bien le benchmark : on désire retrouver une Corrélation de 15.9 % sur y_test_split\n",
    "\n",
    "print(\"Corrélation (Spearman) pour les données d'entrainement Regression linéaire : {:.1f}%\".format(100 * metric_train(output_split) ))"
   ]
  },
  {
   "cell_type": "code",
   "execution_count": null,
   "id": "3f0272c3",
   "metadata": {},
   "outputs": [],
   "source": []
  }
 ],
 "metadata": {
  "kernelspec": {
   "display_name": "Python 3 (ipykernel)",
   "language": "python",
   "name": "python3"
  },
  "language_info": {
   "codemirror_mode": {
    "name": "ipython",
    "version": 3
   },
   "file_extension": ".py",
   "mimetype": "text/x-python",
   "name": "python",
   "nbconvert_exporter": "python",
   "pygments_lexer": "ipython3",
   "version": "3.9.12"
  }
 },
 "nbformat": 4,
 "nbformat_minor": 5
}
