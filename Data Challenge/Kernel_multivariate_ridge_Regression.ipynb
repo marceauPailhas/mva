{
 "cells": [
  {
   "cell_type": "code",
   "execution_count": 8,
   "id": "25d1a42d",
   "metadata": {},
   "outputs": [],
   "source": [
    "import numpy as np\n",
    "import pandas as pd\n",
    "from scipy.stats import spearmanr\n",
    "from sklearn.linear_model import LinearRegression\n",
    "import matplotlib.pyplot as plt\n",
    "\n",
    "from sklearn.preprocessing import PolynomialFeatures\n",
    "from sklearn.linear_model import LinearRegression\n",
    "from sklearn.metrics import mean_squared_error\n",
    "from sklearn.model_selection import train_test_split\n",
    "from sklearn.linear_model import Lasso,LassoCV\n",
    "from sklearn.kernel_ridge import KernelRidge\n",
    "from sklearn.metrics.pairwise import rbf_kernel\n"
   ]
  },
  {
   "cell_type": "code",
   "execution_count": 10,
   "id": "2fd75b20",
   "metadata": {},
   "outputs": [
    {
     "ename": "TypeError",
     "evalue": "rbf_kernel() missing 1 required positional argument: 'X'",
     "output_type": "error",
     "traceback": [
      "\u001b[1;31m---------------------------------------------------------------------------\u001b[0m",
      "\u001b[1;31mTypeError\u001b[0m                                 Traceback (most recent call last)",
      "Input \u001b[1;32mIn [10]\u001b[0m, in \u001b[0;36m<cell line: 1>\u001b[1;34m()\u001b[0m\n\u001b[1;32m----> 1\u001b[0m \u001b[43mrbf_kernel\u001b[49m\u001b[43m(\u001b[49m\u001b[43mgamma\u001b[49m\u001b[38;5;241;43m=\u001b[39;49m\u001b[38;5;241;43m1\u001b[39;49m\u001b[43m)\u001b[49m\n",
      "\u001b[1;31mTypeError\u001b[0m: rbf_kernel() missing 1 required positional argument: 'X'"
     ]
    }
   ],
   "source": [
    "rbf_kernel(gamma=1)"
   ]
  },
  {
   "cell_type": "code",
   "execution_count": 83,
   "id": "9a65e865",
   "metadata": {},
   "outputs": [],
   "source": [
    "def kernel(x,y,gamma=1, coef0=0):\n",
    "    return np.tanh(gamma *np.dot(x, y) + coef0)"
   ]
  },
  {
   "cell_type": "code",
   "execution_count": 84,
   "id": "83a26a86",
   "metadata": {},
   "outputs": [],
   "source": [
    "# After downloading the X_train/X_test/Y_train .csv files in your working directory:\n",
    "\n",
    "X_train_s = pd.read_csv('X_train.csv')\n",
    "Y_train_s = pd.read_csv('Y_train.csv')\n",
    "X_test_s = pd.read_csv('X_test.csv')"
   ]
  },
  {
   "cell_type": "code",
   "execution_count": 85,
   "id": "3b0d4a0f",
   "metadata": {},
   "outputs": [
    {
     "name": "stderr",
     "output_type": "stream",
     "text": [
      "C:\\Users\\marce\\AppData\\Local\\Temp\\ipykernel_16004\\2156529973.py:1: FutureWarning: Dropping of nuisance columns in DataFrame reductions (with 'numeric_only=None') is deprecated; in a future version this will raise TypeError.  Select only valid columns before calling the reduction.\n",
      "  X_train_s=X_train_s.drop(['ID','DAY_ID','COUNTRY'], axis =1).fillna(X_train_s.mean())\n",
      "C:\\Users\\marce\\AppData\\Local\\Temp\\ipykernel_16004\\2156529973.py:2: FutureWarning: Dropping of nuisance columns in DataFrame reductions (with 'numeric_only=None') is deprecated; in a future version this will raise TypeError.  Select only valid columns before calling the reduction.\n",
      "  X_test_s_sans_ID=X_test_s.drop(['ID','DAY_ID','COUNTRY'], axis =1).fillna(X_test_s.mean())\n"
     ]
    }
   ],
   "source": [
    "X_train_s=X_train_s.drop(['ID','DAY_ID','COUNTRY',''], axis =1).fillna(X_train_s.mean())\n",
    "X_test_s_sans_ID=X_test_s.drop(['ID','DAY_ID','COUNTRY'], axis =1).fillna(X_test_s.mean())"
   ]
  },
  {
   "cell_type": "code",
   "execution_count": 94,
   "id": "fe4f34be",
   "metadata": {},
   "outputs": [
    {
     "name": "stdout",
     "output_type": "stream",
     "text": [
      "MSE: 1.0684643623056813\n",
      "Sur les données de train :\n",
      " 27.9%\n",
      "Corrélation (Spearman) pour les données d'entrainement pour une caractérisation polynomiale puis une régression linéaire :\n",
      " 21.6%\n"
     ]
    }
   ],
   "source": [
    "##Quand on choisis degree qui n'est pas celui de la fonction défini plus haut oa un gros MSE. \n",
    "##On peut choisir de faire une LASSO REGRESSION, RIDGE REGRESSSION\n",
    "\n",
    "\n",
    "# Diviser les données en ensembles de formation et de test\n",
    "X_train, X_test, y_train, y_test = train_test_split(X_train_s, Y_train_s['TARGET'], test_size=0.3, random_state=42)\n",
    "\n",
    "# Définir le degré du polynôme\n",
    "degree = 1#le meilleur c'est 2\n",
    "\n",
    "\n",
    "# Créer un objet PolynomialFeatures pour transformer les données d'entrée en des fonctions polynomiales\n",
    "poly = PolynomialFeatures(degree=degree)\n",
    "\n",
    "# Transformer les données d'entrée en des fonctions polynomiales\n",
    "X_train_poly = poly.fit_transform(X_train)\n",
    "X_test_poly = poly.fit_transform(X_test)\n",
    "\n",
    "# Créer un objet LinearRegression pour ajuster un modèle de régression LASSO\n",
    "#reg = LinearRegression () #100% quand on a le bon degrée\n",
    "reg = KernelRidge(kernel=lambda x,y :kernel(x,y,gamma=0.001, coef0=0.5)) #Lasso(alpha=0.016)#alpha=.016) #parait le mieux \n",
    "\n",
    "# Entraîner le modèle de régression sur les données d'entraînement\n",
    "reg.fit(X_train_poly, y_train)\n",
    "\n",
    "# Faire des prédictions sur les données de test\n",
    "y_pred = reg.predict(X_test_poly)\n",
    "y_pred_train = reg.predict(X_train_poly)\n",
    "\n",
    "# Calculer l'erreur quadratique moyenne \n",
    "mse = mean_squared_error(y_test, y_pred)\n",
    "print('MSE:', mse)\n",
    "#y_pred = np.random.normal(0,1,(449,))\n",
    "print(\"Sur les données de train :\\n {:.1f}%\".format(100 * spearmanr(y_pred_train, y_train).correlation))\n",
    "print(\"Corrélation (Spearman) pour les données d'entrainement pour une caractérisation polynomiale puis une régression linéaire :\\n {:.1f}%\".format(100 * spearmanr(y_pred, y_test).correlation))"
   ]
  },
  {
   "cell_type": "code",
   "execution_count": 45,
   "id": "6b055574",
   "metadata": {},
   "outputs": [
    {
     "name": "stdout",
     "output_type": "stream",
     "text": [
      "MSE: 1.0913066091902204\n",
      "Sur les données de train :\n",
      " 33.4%\n",
      "Corrélation (Spearman) pour les données d'entrainement pour une caractérisation polynomiale puis une régression linéaire :\n",
      " 15.7%\n"
     ]
    }
   ],
   "source": [
    "##Quand on choisis degree qui n'est pas celui de la fonction défini plus haut oa un gros MSE. \n",
    "##On peut choisir de faire une LASSO REGRESSION, RIDGE REGRESSSION\n",
    "\n",
    "\n",
    "# Diviser les données en ensembles de formation et de test\n",
    "X_train, X_test, y_train, y_test = train_test_split(X_train_s, Y_train_s['TARGET'], test_size=0.3, random_state=42)\n",
    "\n",
    "# Définir le degré du polynôme\n",
    "degree = 2#le meilleur c'est 2\n",
    "\n",
    "\n",
    "# Créer un objet PolynomialFeatures pour transformer les données d'entrée en des fonctions polynomiales\n",
    "poly = PolynomialFeatures(degree=degree)\n",
    "\n",
    "# Transformer les données d'entrée en des fonctions polynomiales\n",
    "X_train_poly = poly.fit_transform(X_train)\n",
    "X_test_poly = poly.fit_transform(X_test)\n",
    "\n",
    "# Créer un objet LinearRegression pour ajuster un modèle de régression LASSO\n",
    "#reg = LinearRegression () #100% quand on a le bon degrée\n",
    "reg = KernelRidge(kernel=lambda x,y :kernel(x,y,gamma=0.0001)) #Lasso(alpha=0.016)#alpha=.016) #parait le mieux \n",
    "\n",
    "# Entraîner le modèle de régression sur les données d'entraînement\n",
    "reg.fit(X_train_poly, y_train)\n",
    "\n",
    "# Faire des prédictions sur les données de test\n",
    "y_pred = reg.predict(X_test_poly)\n",
    "y_pred_train = reg.predict(X_train_poly)\n",
    "\n",
    "# Calculer l'erreur quadratique moyenne \n",
    "mse = mean_squared_error(y_test, y_pred)\n",
    "print('MSE:', mse)\n",
    "#y_pred = np.random.normal(0,1,(449,))\n",
    "print(\"Sur les données de train :\\n {:.1f}%\".format(100 * spearmanr(y_pred_train, y_train).correlation))\n",
    "print(\"Corrélation (Spearman) pour les données d'entrainement pour une caractérisation polynomiale puis une régression linéaire :\\n {:.1f}%\".format(100 * spearmanr(y_pred, y_test).correlation))"
   ]
  },
  {
   "cell_type": "code",
   "execution_count": 97,
   "id": "5b92b018",
   "metadata": {},
   "outputs": [],
   "source": [
    "X_test_poly = poly.fit_transform(X_test_s_sans_ID)\n",
    "Y_test_submission = reg.predict(X_test_poly)"
   ]
  },
  {
   "cell_type": "code",
   "execution_count": 56,
   "id": "0556fd7d",
   "metadata": {},
   "outputs": [
    {
     "data": {
      "text/plain": [
       "(654,)"
      ]
     },
     "execution_count": 56,
     "metadata": {},
     "output_type": "execute_result"
    }
   ],
   "source": [
    "Y_test_submission.shape"
   ]
  },
  {
   "cell_type": "code",
   "execution_count": 57,
   "id": "a6543acd",
   "metadata": {},
   "outputs": [
    {
     "data": {
      "text/plain": [
       "(654, 32)"
      ]
     },
     "execution_count": 57,
     "metadata": {},
     "output_type": "execute_result"
    }
   ],
   "source": [
    "X_test_s.shape"
   ]
  },
  {
   "cell_type": "code",
   "execution_count": 98,
   "id": "ce9541c0",
   "metadata": {},
   "outputs": [],
   "source": [
    "Y_submission_sb = pd.concat([X_test_s['ID'], pd.DataFrame(Y_test_submission.reshape(-1,1))], axis=1).rename(columns={0: 'TARGET'}) #df2\n",
    "Y_submission_sb.to_csv('KernelRidgeRegressionSigmoidKernel.csv', index=False)"
   ]
  },
  {
   "cell_type": "code",
   "execution_count": null,
   "id": "8b3fb06f",
   "metadata": {},
   "outputs": [],
   "source": []
  }
 ],
 "metadata": {
  "kernelspec": {
   "display_name": "Python 3 (ipykernel)",
   "language": "python",
   "name": "python3"
  },
  "language_info": {
   "codemirror_mode": {
    "name": "ipython",
    "version": 3
   },
   "file_extension": ".py",
   "mimetype": "text/x-python",
   "name": "python",
   "nbconvert_exporter": "python",
   "pygments_lexer": "ipython3",
   "version": "3.9.12"
  }
 },
 "nbformat": 4,
 "nbformat_minor": 5
}
